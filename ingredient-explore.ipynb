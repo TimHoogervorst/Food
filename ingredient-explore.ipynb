{
 "cells": [
  {
   "cell_type": "code",
   "execution_count": 2,
   "metadata": {},
   "outputs": [],
   "source": [
    "from src.FoodDataWrapper import FoodData\n",
    "from src.config import FOOD_DATA_API, CONN_PARAMS\n",
    "from src.PostgressConnector import Postgress\n",
    "from src.dataclass import Recipe, Ingredient, get_ingredient, get_ingredients\n",
    "import pandas as pd\n",
    "import numpy as np"
   ]
  },
  {
   "cell_type": "markdown",
   "metadata": {},
   "source": [
    "### TEST TO INCLUDE INGREDIENT"
   ]
  },
  {
   "cell_type": "code",
   "execution_count": 3,
   "metadata": {},
   "outputs": [],
   "source": [
    "fd = FoodData(FOOD_DATA_API)\n",
    "db = Postgress()"
   ]
  },
  {
   "cell_type": "code",
   "execution_count": 9,
   "metadata": {},
   "outputs": [
    {
     "name": "stdout",
     "output_type": "stream",
     "text": [
      "Warning: No matching attribute found for 'commonNames'\n",
      "Warning: No matching attribute found for 'additionalDescriptions'\n",
      "Warning: No matching attribute found for 'foodCode'\n",
      "Warning: No matching attribute found for 'publishedDate'\n",
      "Warning: No matching attribute found for 'foodCategoryId'\n",
      "Warning: No matching attribute found for 'allHighlightFields'\n",
      "Warning: No matching attribute found for 'finalFoodInputFoods'\n",
      "Warning: No matching attribute found for 'foodAttributes'\n",
      "Warning: No matching attribute found for 'foodAttributeTypes'\n",
      "Warning: No matching attribute found for 'foodVersionIds'\n"
     ]
    }
   ],
   "source": [
    "get_ingredient('ketchup', db=db, fd=fd)"
   ]
  },
  {
   "cell_type": "code",
   "execution_count": 5,
   "metadata": {},
   "outputs": [],
   "source": [
    "fd = FoodData(FOOD_DATA_API)\n",
    "response = fd.search('Cucumber', limit=1)\n",
    "df = fd.to_df(response, 'foods')"
   ]
  },
  {
   "cell_type": "code",
   "execution_count": 6,
   "metadata": {},
   "outputs": [],
   "source": [
    "Apple = Ingredient()\n",
    "Apple.from_dataframe_row(df.iloc[0])\n",
    "db = Postgress()"
   ]
  },
  {
   "cell_type": "code",
   "execution_count": 9,
   "metadata": {},
   "outputs": [
    {
     "data": {
      "text/html": [
       "<div>\n",
       "<style scoped>\n",
       "    .dataframe tbody tr th:only-of-type {\n",
       "        vertical-align: middle;\n",
       "    }\n",
       "\n",
       "    .dataframe tbody tr th {\n",
       "        vertical-align: top;\n",
       "    }\n",
       "\n",
       "    .dataframe thead th {\n",
       "        text-align: right;\n",
       "    }\n",
       "</style>\n",
       "<table border=\"1\" class=\"dataframe\">\n",
       "  <thead>\n",
       "    <tr style=\"text-align: right;\">\n",
       "      <th></th>\n",
       "      <th>fdcId</th>\n",
       "      <th>description</th>\n",
       "      <th>commonNames</th>\n",
       "      <th>additionalDescriptions</th>\n",
       "      <th>dataType</th>\n",
       "      <th>foodCode</th>\n",
       "      <th>publishedDate</th>\n",
       "      <th>foodCategory</th>\n",
       "      <th>foodCategoryId</th>\n",
       "      <th>allHighlightFields</th>\n",
       "      <th>score</th>\n",
       "      <th>microbes</th>\n",
       "      <th>foodNutrients</th>\n",
       "      <th>finalFoodInputFoods</th>\n",
       "      <th>foodMeasures</th>\n",
       "      <th>foodAttributes</th>\n",
       "      <th>foodAttributeTypes</th>\n",
       "      <th>foodVersionIds</th>\n",
       "    </tr>\n",
       "  </thead>\n",
       "  <tbody>\n",
       "    <tr>\n",
       "      <th>0</th>\n",
       "      <td>2344788</td>\n",
       "      <td>Apple, candied</td>\n",
       "      <td></td>\n",
       "      <td>caramel apples</td>\n",
       "      <td>Survey (FNDDS)</td>\n",
       "      <td>63401060</td>\n",
       "      <td>2022-10-28</td>\n",
       "      <td>Apples</td>\n",
       "      <td>2649247</td>\n",
       "      <td>&lt;b&gt;Includes&lt;/b&gt;: caramel &lt;em&gt;apples&lt;/em&gt;</td>\n",
       "      <td>294.29593</td>\n",
       "      <td>[]</td>\n",
       "      <td>[{'nutrientId': 1003, 'nutrientName': 'Protein...</td>\n",
       "      <td>[{'foodDescription': 'Apples, raw, with skin (...</td>\n",
       "      <td>[{'disseminationText': 'Quantity not specified...</td>\n",
       "      <td>[]</td>\n",
       "      <td>[{'name': 'Adjustments', 'description': 'Adjus...</td>\n",
       "      <td>[]</td>\n",
       "    </tr>\n",
       "  </tbody>\n",
       "</table>\n",
       "</div>"
      ],
      "text/plain": [
       "     fdcId     description commonNames additionalDescriptions        dataType  \\\n",
       "0  2344788  Apple, candied                     caramel apples  Survey (FNDDS)   \n",
       "\n",
       "   foodCode publishedDate foodCategory  foodCategoryId  \\\n",
       "0  63401060    2022-10-28       Apples         2649247   \n",
       "\n",
       "                         allHighlightFields      score microbes  \\\n",
       "0  <b>Includes</b>: caramel <em>apples</em>  294.29593       []   \n",
       "\n",
       "                                       foodNutrients  \\\n",
       "0  [{'nutrientId': 1003, 'nutrientName': 'Protein...   \n",
       "\n",
       "                                 finalFoodInputFoods  \\\n",
       "0  [{'foodDescription': 'Apples, raw, with skin (...   \n",
       "\n",
       "                                        foodMeasures foodAttributes  \\\n",
       "0  [{'disseminationText': 'Quantity not specified...             []   \n",
       "\n",
       "                                  foodAttributeTypes foodVersionIds  \n",
       "0  [{'name': 'Adjustments', 'description': 'Adjus...             []  "
      ]
     },
     "execution_count": 9,
     "metadata": {},
     "output_type": "execute_result"
    }
   ],
   "source": [
    "df"
   ]
  },
  {
   "cell_type": "code",
   "execution_count": 7,
   "metadata": {},
   "outputs": [
    {
     "data": {
      "text/plain": [
       "Ingredient(tablename=development.ingredients, fdcid=None, description=Apple, candied, datatype=None, brandowner=None, marketcountry=None, modifieddate=None, foodcategory=None, datasource=None, servingsizeunit=None, servingsize=None, score=294.29593, microbes=[], foodmeasures=None, foodnutrients=None)"
      ]
     },
     "execution_count": 7,
     "metadata": {},
     "output_type": "execute_result"
    }
   ],
   "source": [
    "Apple"
   ]
  },
  {
   "cell_type": "code",
   "execution_count": 35,
   "metadata": {},
   "outputs": [],
   "source": [
    "db.close()\n",
    "db.conn = db.connect()"
   ]
  },
  {
   "cell_type": "code",
   "execution_count": 5,
   "metadata": {},
   "outputs": [
    {
     "name": "stdout",
     "output_type": "stream",
     "text": [
      "Converted numpy type for fdcid: 1104812\n",
      "Converted numpy type for score: 253.44672\n",
      "Converted list of dicts for microbes: []\n",
      "Converted list of dicts for foodmeasures: []\n",
      "Converted list of dicts for foodnutrients: [{\"nutrientId\": 1062, \"nutrientName\": \"Energy\", \"nutrientNumber\": \"268\", \"unitName\": \"kJ\", \"derivationCode\": \"NC\", \"derivationDescription\": \"Calculated\", \"derivationId\": 49, \"value\": 1580.0, \"foodNutrientSourceId\": 2, \"foodNutrientSourceCode\": \"4\", \"foodNutrientSourceDescription\": \"Calculated or imputed\", \"rank\": 400, \"indentLevel\": 1, \"foodNutrientId\": 13336269}, {\"nutrientId\": 1089, \"nutrientName\": \"Iron, Fe\", \"nutrientNumber\": \"303\", \"unitName\": \"MG\", \"derivationCode\": \"A\", \"derivationDescription\": \"Analytical\", \"derivationId\": 1, \"value\": 1.5, \"foodNutrientSourceId\": 1, \"foodNutrientSourceCode\": \"1\", \"foodNutrientSourceDescription\": \"Analytical or derived from analytical\", \"rank\": 5400, \"indentLevel\": 1, \"foodNutrientId\": 13336270, \"dataPoints\": 4, \"min\": 1.1, \"max\": 2.25, \"median\": 1.33}, {\"nutrientId\": 1090, \"nutrientName\": \"Magnesium, Mg\", \"nutrientNumber\": \"304\", \"unitName\": \"MG\", \"derivationCode\": \"A\", \"derivationDescription\": \"Analytical\", \"derivationId\": 1, \"value\": 124, \"foodNutrientSourceId\": 1, \"foodNutrientSourceCode\": \"1\", \"foodNutrientSourceDescription\": \"Analytical or derived from analytical\", \"rank\": 5500, \"indentLevel\": 1, \"foodNutrientId\": 13336271, \"dataPoints\": 4, \"min\": 102, \"max\": 141, \"median\": 126}, {\"nutrientId\": 1091, \"nutrientName\": \"Phosphorus, P\", \"nutrientNumber\": \"305\", \"unitName\": \"MG\", \"derivationCode\": \"A\", \"derivationDescription\": \"Analytical\", \"derivationId\": 1, \"value\": 319, \"foodNutrientSourceId\": 1, \"foodNutrientSourceCode\": \"1\", \"foodNutrientSourceDescription\": \"Analytical or derived from analytical\", \"rank\": 5600, \"indentLevel\": 1, \"foodNutrientId\": 13336272, \"dataPoints\": 4, \"min\": 273, \"max\": 343, \"median\": 330}, {\"nutrientId\": 1093, \"nutrientName\": \"Sodium, Na\", \"nutrientNumber\": \"307\", \"unitName\": \"MG\", \"derivationCode\": \"A\", \"derivationDescription\": \"Analytical\", \"derivationId\": 1, \"value\": 1.0, \"foodNutrientSourceId\": 1, \"foodNutrientSourceCode\": \"1\", \"foodNutrientSourceDescription\": \"Analytical or derived from analytical\", \"rank\": 5800, \"indentLevel\": 1, \"foodNutrientId\": 13336273, \"dataPoints\": 4, \"min\": 0.0, \"max\": 3.0, \"median\": 1.0}, {\"nutrientId\": 1098, \"nutrientName\": \"Copper, Cu\", \"nutrientNumber\": \"312\", \"unitName\": \"MG\", \"derivationCode\": \"A\", \"derivationDescription\": \"Analytical\", \"derivationId\": 1, \"value\": 0.286, \"foodNutrientSourceId\": 1, \"foodNutrientSourceCode\": \"1\", \"foodNutrientSourceDescription\": \"Analytical or derived from analytical\", \"rank\": 6000, \"indentLevel\": 1, \"foodNutrientId\": 13336274, \"dataPoints\": 4, \"min\": 0.253, \"max\": 0.336, \"median\": 0.277}, {\"nutrientId\": 1101, \"nutrientName\": \"Manganese, Mn\", \"nutrientNumber\": \"315\", \"unitName\": \"MG\", \"derivationCode\": \"A\", \"derivationDescription\": \"Analytical\", \"derivationId\": 1, \"value\": 2.84, \"foodNutrientSourceId\": 1, \"foodNutrientSourceCode\": \"1\", \"foodNutrientSourceDescription\": \"Analytical or derived from analytical\", \"rank\": 6100, \"indentLevel\": 1, \"foodNutrientId\": 13336275, \"dataPoints\": 4, \"min\": 2.44, \"max\": 3.31, \"median\": 2.79}, {\"nutrientId\": 1003, \"nutrientName\": \"Protein\", \"nutrientNumber\": \"203\", \"unitName\": \"G\", \"derivationCode\": \"NC\", \"derivationDescription\": \"Calculated\", \"derivationId\": 49, \"value\": 7.19, \"foodNutrientSourceId\": 2, \"foodNutrientSourceCode\": \"4\", \"foodNutrientSourceDescription\": \"Calculated or imputed\", \"rank\": 600, \"indentLevel\": 1, \"foodNutrientId\": 13336276, \"min\": 6.69, \"max\": 7.5, \"median\": 7.25}, {\"nutrientId\": 1007, \"nutrientName\": \"Ash\", \"nutrientNumber\": \"207\", \"unitName\": \"G\", \"derivationCode\": \"A\", \"derivationDescription\": \"Analytical\", \"derivationId\": 1, \"value\": 1.4, \"foodNutrientSourceId\": 1, \"foodNutrientSourceCode\": \"1\", \"foodNutrientSourceDescription\": \"Analytical or derived from analytical\", \"rank\": 1000, \"indentLevel\": 1, \"foodNutrientId\": 13336277, \"dataPoints\": 4, \"min\": 1.23, \"max\": 1.49, \"median\": 1.45}, {\"nutrientId\": 1165, \"nutrientName\": \"Thiamin\", \"nutrientNumber\": \"404\", \"unitName\": \"MG\", \"derivationCode\": \"A\", \"derivationDescription\": \"Analytical\", \"derivationId\": 1, \"value\": 0.322, \"foodNutrientSourceId\": 1, \"foodNutrientSourceCode\": \"1\", \"foodNutrientSourceDescription\": \"Analytical or derived from analytical\", \"rank\": 6400, \"indentLevel\": 1, \"foodNutrientId\": 13336278, \"dataPoints\": 4, \"min\": 0.3, \"max\": 0.34, \"median\": 0.325}, {\"nutrientId\": 1166, \"nutrientName\": \"Riboflavin\", \"nutrientNumber\": \"405\", \"unitName\": \"MG\", \"derivationCode\": \"A\", \"derivationDescription\": \"Analytical\", \"derivationId\": 1, \"value\": 0.008, \"foodNutrientSourceId\": 1, \"foodNutrientSourceCode\": \"1\", \"foodNutrientSourceDescription\": \"Analytical or derived from analytical\", \"rank\": 6500, \"indentLevel\": 1, \"foodNutrientId\": 13336279, \"dataPoints\": 4, \"min\": 0.0, \"max\": 0.03, \"median\": 0.0}, {\"nutrientId\": 1004, \"nutrientName\": \"Total lipid (fat)\", \"nutrientNumber\": \"204\", \"unitName\": \"G\", \"derivationCode\": \"A\", \"derivationDescription\": \"Analytical\", \"derivationId\": 1, \"value\": 3.85, \"foodNutrientSourceId\": 1, \"foodNutrientSourceCode\": \"1\", \"foodNutrientSourceDescription\": \"Analytical or derived from analytical\", \"rank\": 800, \"indentLevel\": 1, \"foodNutrientId\": 13336280, \"dataPoints\": 4, \"min\": 3.37, \"max\": 4.68, \"median\": 3.68}, {\"nutrientId\": 1005, \"nutrientName\": \"Carbohydrate, by difference\", \"nutrientNumber\": \"205\", \"unitName\": \"G\", \"derivationCode\": \"NC\", \"derivationDescription\": \"Calculated\", \"derivationId\": 49, \"value\": 75.5, \"foodNutrientSourceId\": 2, \"foodNutrientSourceCode\": \"4\", \"foodNutrientSourceDescription\": \"Calculated or imputed\", \"rank\": 1110, \"indentLevel\": 2, \"foodNutrientId\": 13336281}, {\"nutrientId\": 1008, \"nutrientName\": \"Energy\", \"nutrientNumber\": \"208\", \"unitName\": \"KCAL\", \"derivationCode\": \"NC\", \"derivationDescription\": \"Calculated\", \"derivationId\": 49, \"value\": 365, \"foodNutrientSourceId\": 2, \"foodNutrientSourceCode\": \"4\", \"foodNutrientSourceDescription\": \"Calculated or imputed\", \"rank\": 300, \"indentLevel\": 1, \"foodNutrientId\": 13336282}, {\"nutrientId\": 1051, \"nutrientName\": \"Water\", \"nutrientNumber\": \"255\", \"unitName\": \"G\", \"derivationCode\": \"A\", \"derivationDescription\": \"Analytical\", \"derivationId\": 1, \"value\": 12.1, \"foodNutrientSourceId\": 1, \"foodNutrientSourceCode\": \"1\", \"foodNutrientSourceDescription\": \"Analytical or derived from analytical\", \"rank\": 100, \"indentLevel\": 1, \"foodNutrientId\": 13336283, \"dataPoints\": 4, \"min\": 10.8, \"max\": 12.9, \"median\": 12.5}, {\"nutrientId\": 1087, \"nutrientName\": \"Calcium, Ca\", \"nutrientNumber\": \"301\", \"unitName\": \"MG\", \"derivationCode\": \"A\", \"derivationDescription\": \"Analytical\", \"derivationId\": 1, \"value\": 10.0, \"foodNutrientSourceId\": 1, \"foodNutrientSourceCode\": \"1\", \"foodNutrientSourceDescription\": \"Analytical or derived from analytical\", \"rank\": 5300, \"indentLevel\": 1, \"foodNutrientId\": 13336284, \"dataPoints\": 4, \"min\": 8.0, \"max\": 14.0, \"median\": 9.0}, {\"nutrientId\": 1092, \"nutrientName\": \"Potassium, K\", \"nutrientNumber\": \"306\", \"unitName\": \"MG\", \"derivationCode\": \"A\", \"derivationDescription\": \"Analytical\", \"derivationId\": 1, \"value\": 265, \"foodNutrientSourceId\": 1, \"foodNutrientSourceCode\": \"1\", \"foodNutrientSourceDescription\": \"Analytical or derived from analytical\", \"rank\": 5700, \"indentLevel\": 1, \"foodNutrientId\": 13336285, \"dataPoints\": 4, \"min\": 253, \"max\": 286, \"median\": 261}, {\"nutrientId\": 1095, \"nutrientName\": \"Zinc, Zn\", \"nutrientNumber\": \"309\", \"unitName\": \"MG\", \"derivationCode\": \"A\", \"derivationDescription\": \"Analytical\", \"derivationId\": 1, \"value\": 1.91, \"foodNutrientSourceId\": 1, \"foodNutrientSourceCode\": \"1\", \"foodNutrientSourceDescription\": \"Analytical or derived from analytical\", \"rank\": 5900, \"indentLevel\": 1, \"foodNutrientId\": 13336286, \"dataPoints\": 4, \"min\": 1.36, \"max\": 2.69, \"median\": 1.79}, {\"nutrientId\": 1167, \"nutrientName\": \"Niacin\", \"nutrientNumber\": \"406\", \"unitName\": \"MG\", \"derivationCode\": \"A\", \"derivationDescription\": \"Analytical\", \"derivationId\": 1, \"value\": 5.99, \"foodNutrientSourceId\": 1, \"foodNutrientSourceCode\": \"1\", \"foodNutrientSourceDescription\": \"Analytical or derived from analytical\", \"rank\": 6600, \"indentLevel\": 1, \"foodNutrientId\": 13336287, \"dataPoints\": 4, \"min\": 5.48, \"max\": 6.89, \"median\": 5.79}, {\"nutrientId\": 1175, \"nutrientName\": \"Vitamin B-6\", \"nutrientNumber\": \"415\", \"unitName\": \"MG\", \"derivationCode\": \"A\", \"derivationDescription\": \"Analytical\", \"derivationId\": 1, \"value\": 0.132, \"foodNutrientSourceId\": 1, \"foodNutrientSourceCode\": \"1\", \"foodNutrientSourceDescription\": \"Analytical or derived from analytical\", \"rank\": 6800, \"indentLevel\": 1, \"foodNutrientId\": 13336288, \"dataPoints\": 4, \"min\": 0.104, \"max\": 0.174, \"median\": 0.124}, {\"nutrientId\": 1002, \"nutrientName\": \"Nitrogen\", \"nutrientNumber\": \"202\", \"unitName\": \"G\", \"derivationCode\": \"A\", \"derivationDescription\": \"Analytical\", \"derivationId\": 1, \"value\": 1.15, \"foodNutrientSourceId\": 1, \"foodNutrientSourceCode\": \"1\", \"foodNutrientSourceDescription\": \"Analytical or derived from analytical\", \"rank\": 500, \"indentLevel\": 1, \"foodNutrientId\": 13336289, \"dataPoints\": 4, \"min\": 1.07, \"max\": 1.2, \"median\": 1.16}, {\"nutrientId\": 1102, \"nutrientName\": \"Molybdenum, Mo\", \"nutrientNumber\": \"316\", \"unitName\": \"UG\", \"derivationCode\": \"A\", \"derivationDescription\": \"Analytical\", \"derivationId\": 1, \"value\": 56.2, \"foodNutrientSourceId\": 1, \"foodNutrientSourceCode\": \"1\", \"foodNutrientSourceDescription\": \"Analytical or derived from analytical\", \"rank\": 6243, \"indentLevel\": 1, \"foodNutrientId\": 13336290, \"dataPoints\": 4, \"min\": 41.9, \"max\": 86.3, \"median\": 48.3}, {\"nutrientId\": 1103, \"nutrientName\": \"Selenium, Se\", \"nutrientNumber\": \"317\", \"unitName\": \"UG\", \"derivationCode\": \"A\", \"derivationDescription\": \"Analytical\", \"derivationId\": 1, \"value\": 9.68, \"foodNutrientSourceId\": 1, \"foodNutrientSourceCode\": \"1\", \"foodNutrientSourceDescription\": \"Analytical or derived from analytical\", \"rank\": 6200, \"indentLevel\": 1, \"foodNutrientId\": 13336291, \"dataPoints\": 4, \"min\": 3.71, \"max\": 19.1, \"median\": 7.96}]\n"
     ]
    }
   ],
   "source": [
    "Apple.save_to_db(db)"
   ]
  },
  {
   "cell_type": "markdown",
   "metadata": {},
   "source": [
    "### NUTRIENTS"
   ]
  },
  {
   "cell_type": "code",
   "execution_count": 37,
   "metadata": {},
   "outputs": [],
   "source": [
    "\n",
    "# df_nut = pd.DataFrame(df.foodNutrients.item())\n",
    "# nutcols = ['nutrientId', 'nutrientName', 'nutrientNumber', 'unitName', 'value', 'rank', 'percentDailyValue']\n",
    "# df_nut[nutcols]"
   ]
  }
 ],
 "metadata": {
  "kernelspec": {
   "display_name": ".venv",
   "language": "python",
   "name": "python3"
  },
  "language_info": {
   "codemirror_mode": {
    "name": "ipython",
    "version": 3
   },
   "file_extension": ".py",
   "mimetype": "text/x-python",
   "name": "python",
   "nbconvert_exporter": "python",
   "pygments_lexer": "ipython3",
   "version": "3.11.9"
  }
 },
 "nbformat": 4,
 "nbformat_minor": 2
}

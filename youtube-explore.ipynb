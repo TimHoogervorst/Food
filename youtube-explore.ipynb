{
 "cells": [
  {
   "cell_type": "code",
   "execution_count": 4,
   "metadata": {},
   "outputs": [],
   "source": [
    "from youtube_transcript_api import YouTubeTranscriptApi\n",
    "from src.config import OPEN_AI"
   ]
  },
  {
   "cell_type": "code",
   "execution_count": 59,
   "metadata": {},
   "outputs": [
    {
     "name": "stdout",
     "output_type": "stream",
     "text": [
      "here's a deep dark roasty Ragu with no meat or weird meat Replacements at all in it that's all mushrooms all the time and you could have it with any kind of pasta or just scoop it up with bread but we're gonna make these gnocchi and cook them right in the sauce which is more convenient and it gives the sauce a silky finish that's tough to get without the gelatin from meat the secret to most mushroom dishes in my opinion is to use at least some dried mushrooms this is a full ounce about 30 grams cheap varieties here's a jug of boiling water from the microwave here's the oyster mushrooms which are really cheap because they're easy to farm porcini have to grow on living trees so they're going to be wild and they might have some sand on them we'll deal with that give that a stir so everything soaks and sinks dried mushrooms have far more flavor and particularly more Umami than fresh mushrooms do these are the flavor engine let them soften while we peel this one large Russet potato or any mealy potato this will make enough gnocchi for two or three people if you want more more food start with two potatoes I'll just chop this up into little pieces so it'll cook faster and we'll simply boil until soft fresh mushrooms use any you like but these are some lion's mane mushrooms that they had at the store also easy to farm so you might be seeing them more and the special thing about lion's mane is that it shreds like meat all mushrooms do this to some extent because they're all made of tiny mycelial threads but the threads in lion's mane grow together kind of like muscle fibrils in meat and that can give it a particularly meat-like texture and look so I'm just pulling the lion's mane the same way that I would pull a barbecued pork butt the pieces will shrink a fair bit so start big and here's something very special this is what's left of a gorgeous chicken of the woods mushroom that I foraged the other day you'll be seeing some more of that chicken of the woods also kind of pulls though not in the same way as the lion's mane it does have an incredibly firm and Meaty taste and texture but you don't have to have it you don't have to have any of this just get like half a pound 200 gram of any fresh mushrooms that you like and chop them up I think I will do the water trick today I've got a lot of mushrooms that I want to Brown thoroughly and if you cook them with a little water instead of oil the water serves as a thermal interface and gets heat up into the crevices which starts to break down the mushrooms and then the mushrooms release their own water which is ample when the pan gets dry again I can throw in some olive oil and Fry these without any danger that they'll start spilling out water and then I won't be able to Brown them thoroughly like I want to might as well season these a little bit they're big enough chunks that you might be able to perceive seasoning on or in them as opposed to just around them in the sauce I don't know while they go I can just chop up my aromatics a big carrot I'd chop it reasonably fine because this is not going to cook as long as a meat Ragu same deal with the stick of celery I have small pieces that will soften in the 30 or so minutes that we have left a couple little shallots or maybe half a big onion the mushrooms smell great and they're starting to stick to the bottom of the pan so I think it's time to move on all the vegetables go in probably going to need some more oil to cook all of those and pretty quickly they should release enough water to help you deglaze that delicious mushroom fond off of the bottom of the pan oh are you admiring the pan it's from made in sponsor of this video you know if I was going to have one pan and only one pan in the kitchen it might be this particular one the made-in stainless clad saute pan if I could have only one material it'd probably be stainless nothing is easier to care for and nothing is more versatile made in stainless clad is all made in Italy it's used by Michelin star chefs the world over and I just love this particular shape it's got steep sides that maximize surface area it's only like a 10 inch pan Super compact but we got all this real estate for searing and the sides are tall and there's a metal lid so you can stew and braise in it and throw it in the oven like all made in pans it has an incredibly sturdy and comfortable handle and this has a helper handle on the other side for when this is full of stew and heavy check out the stainless collection and made in's other cookware by using the link in the description to save on your order use my link in the description and let made in know that ragusia sent you thank you made in I want to give these vegetables some time again this is not going to Stew for hours so I need to soften these now that looks good enough in with a big squeeze of tomato paste stir it in and let it fry for a minute tomato paste does some pretty special things when it goes to like a rust color like that it's full of sugar so before it burns in with some wine or whatever liquid you've got deglaze and reduce one reason you generally reduce wine by itself is that for science reasons you can boil away proportionally more of the alcohol when it's not in the presence of a ton of water but I'm not sure how big a difference that usually makes in practice and some alcohol is really good for flavor just put stuff in and boil it things are starting to look a little too dry already and as luck would have it I have some more liquid over here my potatoes are mashably soft so they're done and I will simply pour the boil water into my Ragu I need a lot of water anyway and this water has a little potato flavor and starch which will help make the sauce thick and velvety set the potato chunks aside to cool the dried mushrooms all just lift out with my fingers and then chop up as fine as I reasonably can they will play the part of ground meat in my Ragu they might still be a little chewy at this stage but they'll soften some more as they stew that steeping liquid is where most of the dried mushroom flavor lives now so absolutely it goes in too it's more flavorful than the solids themselves at this point one trick is to hold back on the last little bit if there was any sand on those porcini it's going to sink to the bottom and we can leave it behind might seem like too much water but it's all going to evaporate out as we stew we'll probably need more water let's see this tomato has a big rotten spot so it'll be perfect for sauce just cut away the bad parts oh I guess I'm definitely using that for sauce now all told I've got a tomato and a half here you could use canned tomatoes you could use no tomatoes it's fine and they're going to fall apart in the sauce the only reason I'm chopping them kind of fine is to reduce the size of the pieces of the skin that will be left skim the Tomato if you want but I see little Point as long as you get the pieces small and you go with all your precious juice clean The Cutting Board now we can make the gnocchi Smash Up The Boiled potato chunks with a fork or something doing it over a wide area like this helps the potato cool down really fast you can handle it we'll probably need roughly an equal volume of flour but I can always add more these will need to be seasoned on the inside because I'm not going to boil them in heavily salted water and honestly if you hide some garlic powder inside any dumpling like Mass people are going to think you're a genius time to knead need it enough and need in enough flour until it's smooth and solid and stretchy enough that you could roll it into a rough snake too brittle needs a little more flour these would come out a little more toothsome if we use some egg but this is so close to being vegan let's just Sprint to the Finish Line you'll be surprised how good these come out with just potato and flour don't forget to stir the sauce it's starting to stick to the bottom and that is the Prelude to burning might need more water in there alrighty cut this in half and then roll out the first one it doesn't have to be uniform it doesn't have to be smooth this is just the most convenient way to cut this dough into little nuggets remember they're going to swell up a lot when they cook so cut them smaller than you want them keep them separate at this stage or else they'll stick together no I'm not going to bother putting those largely decorative ridges on my gnocchi today but you can do it with a fork let's have a taste of the Ragu need salt and I might take some of my salt in the form of soy sauce just a little to reinforce the Umami of the mushrooms grind in a ton of pepper do a splash of vinegar if you're me and we want to get this basically done before we proceed tastes great right now so it's time to drop in the gnocchi we can boil them right in here we don't need another pot I think it's worth dropping them in just a few at a time to make sure they don't stick to each other on the way in and to keep too much loose flour from our board falling in and making things too starchy these will absorb water out of the sauce which will thicken it and they will shed starch into the sauce which will thicken it so a little more water be conservative so you don't have to overcook your gnocchi to reduce the sauce all over again you can always add once each dumpling is surrounded by sauce you are safe to stir they won't stick to each other now simmer them for a few minutes until they visibly plump and they feel and taste firm yet pillowy there's a lot of wiggle room here while I wait I'm going to make a quick gremolata for garnish a clove of garlic some lemon zest and traditionally use parsley but I've got Sage here and then you just chop the ingredients into each other this creates a complex tasting last second garnish that really freshens up a dark stew dish and gives it some heterogeneity too we seem to be done over here usually I brown Yoki after boiling them obviously we cannot do that now but I love what we gain an economy of dirty dishes and I love cooking the gnocchi and the sauce together they really do merge thanks to all that loose starch it might look over Sauced but a ragu to me is more a stew than a sauce and I really don't need a ton more carbs in my diet but you know you do you in the bowl and sprinkle that gremolata on top ideally when the food is still really hot so that it Cooks the garlic ever so slightly well that's a darn good looking bowl of plants plants and funguses of course now you go eat plants and funguses they're good\n"
     ]
    }
   ],
   "source": [
    "def get_youtube_transcript(video_url):\n",
    "    try:\n",
    "        # Extract the video ID from the URL\n",
    "        video_id = video_url.split('v=')[-1].split('&')[0]\n",
    "\n",
    "        # Fetch the transcript\n",
    "        transcript = YouTubeTranscriptApi.get_transcript(video_id)\n",
    "\n",
    "        # Combine the transcript text into a single string\n",
    "        transcript_text = ' '.join([item['text'] for item in transcript])\n",
    "\n",
    "        return transcript_text\n",
    "\n",
    "    except Exception as e:\n",
    "        return str(e)\n",
    "\n",
    "# Example usage\n",
    "youtube_url = 'https://www.youtube.com/watch?v=3JbdWZCOUnI'\n",
    "transcript = get_youtube_transcript(youtube_url)\n",
    "print(transcript)"
   ]
  },
  {
   "cell_type": "code",
   "execution_count": 60,
   "metadata": {},
   "outputs": [],
   "source": [
    "import openai\n",
    "import json\n",
    "openai.api_key = OPEN_AI"
   ]
  },
  {
   "cell_type": "code",
   "execution_count": 5,
   "metadata": {},
   "outputs": [
    {
     "data": {
      "text/plain": [
       "<openai.OpenAI at 0x23719e24a10>"
      ]
     },
     "execution_count": 5,
     "metadata": {},
     "output_type": "execute_result"
    }
   ],
   "source": [
    "from openai import OpenAI\n",
    "\n",
    "OpenAI(api_key=OPEN_AI)"
   ]
  },
  {
   "cell_type": "code",
   "execution_count": 61,
   "metadata": {},
   "outputs": [
    {
     "name": "stdout",
     "output_type": "stream",
     "text": [
      "ChatCompletionMessage(content='```json\\n{\\n  \"Name\": \"Deep Dark Roasty Mushroom Ragu with Gnocchi\",\\n  \"description\": \"A savory ragu made entirely with mushrooms, served with gnocchi cooked directly in the sauce for a silky finish.\",\\n  \"cuisine\": \"Italian\",\\n  \"category\": \"Main Course\",\\n  \"servings\": \"2-3\",\\n  \"preptime\": \"30 minutes\",\\n  \"cooktime\": \"30 minutes\",\\n  \"difficulty\": \"Medium\",\\n  \"list_of_steps\": [\\n    \"Soak dried mushrooms in boiling water for about 30 minutes.\",\\n    \"Peel and chop one large Russet potato into small pieces and boil until soft.\",\\n    \"Chop fresh mushrooms and start cooking them with a bit of water to help brown them.\",\\n    \"Chop aromatics: carrot, celery, and shallots (or onion).\",\\n    \"Add the vegetables to the pan with the mushrooms, and cook until softened.\",\\n    \"Stir in tomato paste and let it fry until rust colored.\",\\n    \"Deglaze the pan with wine or other liquid and reduce.\",\\n    \"Add boiled potato chunks and water to the ragu.\",\\n    \"Chop and add the soaked dried mushrooms into the sauce.\",\\n    \"Prepare fresh tomatoes and add them to the ragu.\",\\n    \"Mash the boiled potato to cool it down, then mix with flour to form gnocchi dough.\",\\n    \"Knead the dough until smooth, then cut it into small pieces.\",\\n    \"Drop gnocchi into the ragu and simmer until they are plump and firm.\",\\n    \"Prepare a quick gremolata with garlic, lemon zest, and herbs.\",\\n    \"Serve the ragu with gnocchi and garnish with gremolata.\"\\n  ],\\n  \"list_of_ingredients\": [\\n    {\\n      \"ingredient\": \"Dried mushrooms\",\\n      \"amount\": \"30 grams\"\\n    },\\n    {\\n      \"ingredient\": \"Fresh mushrooms (e.g., oyster, lion\\'s mane, chicken of the woods)\",\\n      \"amount\": \"200 grams\"\\n    },\\n    {\\n      \"ingredient\": \"Russet potato\",\\n      \"amount\": \"1 large\"\\n    },\\n    {\\n      \"ingredient\": \"Carrot\",\\n      \"amount\": \"1 large\"\\n    },\\n    {\\n      \"ingredient\": \"Celery\",\\n      \"amount\": \"1 stick\"\\n    },\\n    {\\n      \"ingredient\": \"Shallots or onion\",\\n      \"amount\": \"2 small shallots or 0.5 large onion\"\\n    },\\n    {\\n      \"ingredient\": \"Tomato paste\",\\n      \"amount\": \"1 squeeze\"\\n    },\\n    {\\n      \"ingredient\": \"Wine or any cooking liquid\",\\n      \"amount\": \"as needed\"\\n    },\\n    {\\n      \"ingredient\": \"Tomatoes\",\\n      \"amount\": \"1.5 medium\"\\n    },\\n    {\\n      \"ingredient\": \"Flour\",\\n      \"amount\": \"roughly equal volume to potato\"\\n    },\\n    {\\n      \"ingredient\": \"Soy sauce\",\\n      \"amount\": \"a splash\"\\n    },\\n    {\\n      \"ingredient\": \"Pepper\",\\n      \"amount\": \"to taste\"\\n    },\\n    {\\n      \"ingredient\": \"Vinegar\",\\n      \"amount\": \"a splash (optional)\"\\n    },\\n    {\\n      \"ingredient\": \"Garlic\",\\n      \"amount\": \"1 clove\"\\n    },\\n    {\\n      \"ingredient\": \"Lemon zest\",\\n      \"amount\": \"from 1 lemon\"\\n    },\\n    {\\n      \"ingredient\": \"Herbs (e.g., parsley, sage or basil)\",\\n      \"amount\": \"to taste\"\\n    }\\n  ]\\n}\\n```', refusal=None, role='assistant', function_call=None, tool_calls=None)\n"
     ]
    }
   ],
   "source": [
    "completion = openai.chat.completions.create(\n",
    "    model=\"gpt-4o-mini\",\n",
    "    messages=[\n",
    "        {\"role\": \"system\", \"content\": \"You are a helpful assistant who translate video transcripts to json, in metric units, with the following names: Name, description, cuisine, category, servings, preptime, cooktime, difficulty, list of steps, list of ingredients\"},\n",
    "        {\n",
    "            \"role\": \"user\",\n",
    "            \"content\": transcript\n",
    "        }\n",
    "    ]\n",
    ")\n",
    "\n",
    "print(completion.choices[0].message)\n"
   ]
  },
  {
   "cell_type": "code",
   "execution_count": 62,
   "metadata": {},
   "outputs": [
    {
     "name": "stdout",
     "output_type": "stream",
     "text": [
      "{'Name': 'Deep Dark Roasty Mushroom Ragu with Gnocchi', 'description': 'A savory ragu made entirely with mushrooms, served with gnocchi cooked directly in the sauce for a silky finish.', 'cuisine': 'Italian', 'category': 'Main Course', 'servings': '2-3', 'preptime': '30 minutes', 'cooktime': '30 minutes', 'difficulty': 'Medium', 'list_of_steps': ['Soak dried mushrooms in boiling water for about 30 minutes.', 'Peel and chop one large Russet potato into small pieces and boil until soft.', 'Chop fresh mushrooms and start cooking them with a bit of water to help brown them.', 'Chop aromatics: carrot, celery, and shallots (or onion).', 'Add the vegetables to the pan with the mushrooms, and cook until softened.', 'Stir in tomato paste and let it fry until rust colored.', 'Deglaze the pan with wine or other liquid and reduce.', 'Add boiled potato chunks and water to the ragu.', 'Chop and add the soaked dried mushrooms into the sauce.', 'Prepare fresh tomatoes and add them to the ragu.', 'Mash the boiled potato to cool it down, then mix with flour to form gnocchi dough.', 'Knead the dough until smooth, then cut it into small pieces.', 'Drop gnocchi into the ragu and simmer until they are plump and firm.', 'Prepare a quick gremolata with garlic, lemon zest, and herbs.', 'Serve the ragu with gnocchi and garnish with gremolata.'], 'list_of_ingredients': [{'ingredient': 'Dried mushrooms', 'amount': '30 grams'}, {'ingredient': \"Fresh mushrooms (e.g., oyster, lion's mane, chicken of the woods)\", 'amount': '200 grams'}, {'ingredient': 'Russet potato', 'amount': '1 large'}, {'ingredient': 'Carrot', 'amount': '1 large'}, {'ingredient': 'Celery', 'amount': '1 stick'}, {'ingredient': 'Shallots or onion', 'amount': '2 small shallots or 0.5 large onion'}, {'ingredient': 'Tomato paste', 'amount': '1 squeeze'}, {'ingredient': 'Wine or any cooking liquid', 'amount': 'as needed'}, {'ingredient': 'Tomatoes', 'amount': '1.5 medium'}, {'ingredient': 'Flour', 'amount': 'roughly equal volume to potato'}, {'ingredient': 'Soy sauce', 'amount': 'a splash'}, {'ingredient': 'Pepper', 'amount': 'to taste'}, {'ingredient': 'Vinegar', 'amount': 'a splash (optional)'}, {'ingredient': 'Garlic', 'amount': '1 clove'}, {'ingredient': 'Lemon zest', 'amount': 'from 1 lemon'}, {'ingredient': 'Herbs (e.g., parsley, sage or basil)', 'amount': 'to taste'}]}\n"
     ]
    }
   ],
   "source": [
    "# Extract the JSON content from the response\n",
    "content = completion.choices[0].message.to_dict()['content']\n",
    "\n",
    "# Remove the code block markers if they exist\n",
    "if content.startswith('```json') and content.endswith('```'):\n",
    "    content = content[7:-3].strip()\n",
    "\n",
    "# Parse the content string as JSON\n",
    "try:\n",
    "    recipe = json.loads(content)\n",
    "    print(recipe)\n",
    "except json.JSONDecodeError as e:\n",
    "    print(\"Failed to parse JSON:\", e)"
   ]
  },
  {
   "cell_type": "code",
   "execution_count": 63,
   "metadata": {},
   "outputs": [
    {
     "name": "stdout",
     "output_type": "stream",
     "text": [
      " Name : Deep Dark Roasty Mushroom Ragu with Gnocchi\n",
      " description : A savory ragu made entirely with mushrooms, served with gnocchi cooked directly in the sauce for a silky finish.\n",
      " cuisine : Italian\n",
      " category : Main Course\n",
      " servings : 2-3\n",
      " preptime : 30 minutes\n",
      " cooktime : 30 minutes\n",
      " difficulty : Medium\n",
      " list_of_steps : ['Soak dried mushrooms in boiling water for about 30 minutes.', 'Peel and chop one large Russet potato into small pieces and boil until soft.', 'Chop fresh mushrooms and start cooking them with a bit of water to help brown them.', 'Chop aromatics: carrot, celery, and shallots (or onion).', 'Add the vegetables to the pan with the mushrooms, and cook until softened.', 'Stir in tomato paste and let it fry until rust colored.', 'Deglaze the pan with wine or other liquid and reduce.', 'Add boiled potato chunks and water to the ragu.', 'Chop and add the soaked dried mushrooms into the sauce.', 'Prepare fresh tomatoes and add them to the ragu.', 'Mash the boiled potato to cool it down, then mix with flour to form gnocchi dough.', 'Knead the dough until smooth, then cut it into small pieces.', 'Drop gnocchi into the ragu and simmer until they are plump and firm.', 'Prepare a quick gremolata with garlic, lemon zest, and herbs.', 'Serve the ragu with gnocchi and garnish with gremolata.']\n",
      " list_of_ingredients : [{'ingredient': 'Dried mushrooms', 'amount': '30 grams'}, {'ingredient': \"Fresh mushrooms (e.g., oyster, lion's mane, chicken of the woods)\", 'amount': '200 grams'}, {'ingredient': 'Russet potato', 'amount': '1 large'}, {'ingredient': 'Carrot', 'amount': '1 large'}, {'ingredient': 'Celery', 'amount': '1 stick'}, {'ingredient': 'Shallots or onion', 'amount': '2 small shallots or 0.5 large onion'}, {'ingredient': 'Tomato paste', 'amount': '1 squeeze'}, {'ingredient': 'Wine or any cooking liquid', 'amount': 'as needed'}, {'ingredient': 'Tomatoes', 'amount': '1.5 medium'}, {'ingredient': 'Flour', 'amount': 'roughly equal volume to potato'}, {'ingredient': 'Soy sauce', 'amount': 'a splash'}, {'ingredient': 'Pepper', 'amount': 'to taste'}, {'ingredient': 'Vinegar', 'amount': 'a splash (optional)'}, {'ingredient': 'Garlic', 'amount': '1 clove'}, {'ingredient': 'Lemon zest', 'amount': 'from 1 lemon'}, {'ingredient': 'Herbs (e.g., parsley, sage or basil)', 'amount': 'to taste'}]\n"
     ]
    }
   ],
   "source": [
    "for key in recipe.keys():\n",
    "    print(f' {key} : {recipe[key]}')"
   ]
  },
  {
   "cell_type": "code",
   "execution_count": 64,
   "metadata": {},
   "outputs": [],
   "source": [
    "from src.dataclasses import Recipe\n",
    "from src.PostgressConnector import Postgress"
   ]
  },
  {
   "cell_type": "code",
   "execution_count": 65,
   "metadata": {},
   "outputs": [],
   "source": [
    "recipe_class = Recipe()\n",
    "recipe_class.from_json(recipe)"
   ]
  },
  {
   "cell_type": "code",
   "execution_count": 66,
   "metadata": {},
   "outputs": [
    {
     "ename": "InvalidTextRepresentation",
     "evalue": "invalid input syntax for type integer: \"2-3\"\nLINE 1: ...e for a silky finish.', 'Italian', 'Main Course', '2-3', '30...\n                                                             ^\n",
     "output_type": "error",
     "traceback": [
      "\u001b[1;31m---------------------------------------------------------------------------\u001b[0m",
      "\u001b[1;31mInvalidTextRepresentation\u001b[0m                 Traceback (most recent call last)",
      "Cell \u001b[1;32mIn[66], line 2\u001b[0m\n\u001b[0;32m      1\u001b[0m db \u001b[38;5;241m=\u001b[39m Postgress()\n\u001b[1;32m----> 2\u001b[0m \u001b[43mrecipe_class\u001b[49m\u001b[38;5;241;43m.\u001b[39;49m\u001b[43msave_to_db\u001b[49m\u001b[43m(\u001b[49m\u001b[43mdb\u001b[49m\u001b[43m)\u001b[49m\n",
      "File \u001b[1;32mc:\\Users\\timmi\\Documents\\Personal Repos\\Food\\src\\Insert.py:41\u001b[0m, in \u001b[0;36mclean_data.<locals>.wrapper\u001b[1;34m(self, *args, **kwargs)\u001b[0m\n\u001b[0;32m     38\u001b[0m     \u001b[38;5;28;01mif\u001b[39;00m value \u001b[38;5;129;01min\u001b[39;00m [\u001b[38;5;124m'\u001b[39m\u001b[38;5;124m'\u001b[39m, \u001b[38;5;28;01mNone\u001b[39;00m]:\n\u001b[0;32m     39\u001b[0m         \u001b[38;5;28msetattr\u001b[39m(\u001b[38;5;28mself\u001b[39m, attr, \u001b[38;5;28;01mNone\u001b[39;00m)\n\u001b[1;32m---> 41\u001b[0m \u001b[38;5;28;01mreturn\u001b[39;00m \u001b[43mfunc\u001b[49m\u001b[43m(\u001b[49m\u001b[38;5;28;43mself\u001b[39;49m\u001b[43m,\u001b[49m\u001b[43m \u001b[49m\u001b[38;5;241;43m*\u001b[39;49m\u001b[43margs\u001b[49m\u001b[43m,\u001b[49m\u001b[43m \u001b[49m\u001b[38;5;241;43m*\u001b[39;49m\u001b[38;5;241;43m*\u001b[39;49m\u001b[43mkwargs\u001b[49m\u001b[43m)\u001b[49m\n",
      "File \u001b[1;32mc:\\Users\\timmi\\Documents\\Personal Repos\\Food\\src\\Insert.py:104\u001b[0m, in \u001b[0;36mBaseDataClass.save_to_db\u001b[1;34m(self, db)\u001b[0m\n\u001b[0;32m    101\u001b[0m sql \u001b[38;5;241m=\u001b[39m \u001b[38;5;124mf\u001b[39m\u001b[38;5;124m\"\u001b[39m\u001b[38;5;124mINSERT INTO \u001b[39m\u001b[38;5;132;01m{\u001b[39;00mtable_name\u001b[38;5;132;01m}\u001b[39;00m\u001b[38;5;124m (\u001b[39m\u001b[38;5;132;01m{\u001b[39;00mcolumns_str\u001b[38;5;132;01m}\u001b[39;00m\u001b[38;5;124m) VALUES (\u001b[39m\u001b[38;5;132;01m{\u001b[39;00mplaceholders\u001b[38;5;132;01m}\u001b[39;00m\u001b[38;5;124m)\u001b[39m\u001b[38;5;124m\"\u001b[39m\n\u001b[0;32m    103\u001b[0m \u001b[38;5;66;03m# Execute the query using the Postgress class\u001b[39;00m\n\u001b[1;32m--> 104\u001b[0m \u001b[43mdb\u001b[49m\u001b[38;5;241;43m.\u001b[39;49m\u001b[43mexecute_query\u001b[49m\u001b[43m(\u001b[49m\u001b[43msql\u001b[49m\u001b[43m,\u001b[49m\u001b[43m \u001b[49m\u001b[43mvalues\u001b[49m\u001b[43m)\u001b[49m\n",
      "File \u001b[1;32mc:\\Users\\timmi\\Documents\\Personal Repos\\Food\\src\\PostgressConnector.py:29\u001b[0m, in \u001b[0;36mPostgress.execute_query\u001b[1;34m(self, sql, params)\u001b[0m\n\u001b[0;32m     27\u001b[0m \u001b[38;5;28;01mwith\u001b[39;00m \u001b[38;5;28mself\u001b[39m\u001b[38;5;241m.\u001b[39m_lock:\n\u001b[0;32m     28\u001b[0m     \u001b[38;5;28;01mwith\u001b[39;00m \u001b[38;5;28mself\u001b[39m\u001b[38;5;241m.\u001b[39mconn\u001b[38;5;241m.\u001b[39mcursor() \u001b[38;5;28;01mas\u001b[39;00m cursor:\n\u001b[1;32m---> 29\u001b[0m         \u001b[43mcursor\u001b[49m\u001b[38;5;241;43m.\u001b[39;49m\u001b[43mexecute\u001b[49m\u001b[43m(\u001b[49m\u001b[43msql\u001b[49m\u001b[43m,\u001b[49m\u001b[43m \u001b[49m\u001b[43mparams\u001b[49m\u001b[43m)\u001b[49m\n\u001b[0;32m     30\u001b[0m         \u001b[38;5;28mself\u001b[39m\u001b[38;5;241m.\u001b[39mconn\u001b[38;5;241m.\u001b[39mcommit()\n",
      "\u001b[1;31mInvalidTextRepresentation\u001b[0m: invalid input syntax for type integer: \"2-3\"\nLINE 1: ...e for a silky finish.', 'Italian', 'Main Course', '2-3', '30...\n                                                             ^\n"
     ]
    }
   ],
   "source": [
    "db = Postgress()\n",
    "recipe_class.save_to_db(db)"
   ]
  },
  {
   "cell_type": "code",
   "execution_count": 1,
   "metadata": {},
   "outputs": [],
   "source": [
    "from src.connectors.youtube import Youtube, Chat"
   ]
  },
  {
   "cell_type": "code",
   "execution_count": 4,
   "metadata": {},
   "outputs": [],
   "source": [
    "yt = Youtube()\n",
    "client = Chat()\n",
    "\n",
    "transcript = yt.get_youtube_transcript(\"https://www.youtube.com/watch?v=j80dx6C28Co\", 'zh-TW')\n",
    "transcript_json = client.translate_transcript(transcript)"
   ]
  },
  {
   "cell_type": "code",
   "execution_count": 5,
   "metadata": {},
   "outputs": [
    {
     "data": {
      "text/plain": [
       "{'name': 'Stir-fried Shrimp in Sweet and Sour Sauce',\n",
       " 'description': 'A home-cooked dish featuring shrimp cooked to a tender texture with a sweet and sour sauce.',\n",
       " 'cuisine': 'Seafood',\n",
       " 'category': 'Main Course',\n",
       " 'servings': 2,\n",
       " 'preptime': '10 minutes',\n",
       " 'cooktime': '15 minutes',\n",
       " 'difficulty': 'Medium',\n",
       " 'steps': ['Prepare the ingredients: clean, wash and chop the garlic, ginger, and green onions. Cut a slit along the back of the shrimp to help absorb the sauce and check for any dirt.',\n",
       "  'Marinate the shrimp: Add 300 grams of shrimp, 1 teaspoon of salt, 1/3 egg, and 2 tablespoons of cornstarch into a bowl and mix well.',\n",
       "  'Prepare the sauce: In another bowl, mix together 1.5 tablespoons of sugar, 2 tablespoons of ketchup, 1 tablespoon of cooking wine, 1 tablespoon of rice wine, 3 tablespoons of water, and 1 teaspoon of sesame oil.',\n",
       "  'Heat a pan and add 1.5 tablespoons of oil. Once hot, add the marinated shrimp and sauté until they are about 80% cooked.',\n",
       "  'Remove the shrimp from the pan and set aside. In the same pan, add minced garlic and ginger, and sauté until fragrant.',\n",
       "  'Add 1 tablespoon of spicy bean paste to the pan and cook until it releases its color and aroma.',\n",
       "  'Pour the prepared sauce into the pan, followed by the shrimp. Reduce the heat and simmer for 30 seconds to allow the flavors to meld.',\n",
       "  'Increase the heat again, add the green onions, and quickly stir-fry before removing from heat.',\n",
       "  'Garnish with additional green onions before serving.'],\n",
       " 'ingredients': [{'name': 'Shrimp', 'amount': '300 grams'},\n",
       "  {'name': 'Green onions', 'amount': '15 grams'},\n",
       "  {'name': 'Garlic', 'amount': '10 grams'},\n",
       "  {'name': 'Ginger', 'amount': '5 grams'},\n",
       "  {'name': 'Salt', 'amount': '1 teaspoon'},\n",
       "  {'name': 'Egg', 'amount': '1/3 of a whole egg'},\n",
       "  {'name': 'Cornstarch', 'amount': '2 tablespoons'},\n",
       "  {'name': 'Sugar', 'amount': '1.5 tablespoons'},\n",
       "  {'name': 'Ketchup', 'amount': '2 tablespoons'},\n",
       "  {'name': 'Cooking wine', 'amount': '1 tablespoon'},\n",
       "  {'name': 'Rice wine', 'amount': '1 tablespoon'},\n",
       "  {'name': 'Water', 'amount': '3 tablespoons'},\n",
       "  {'name': 'Sesame oil', 'amount': '1 teaspoon'},\n",
       "  {'name': 'Vegetable oil', 'amount': '1.5 tablespoons'},\n",
       "  {'name': 'Spicy bean paste', 'amount': '1 tablespoon'}]}"
      ]
     },
     "execution_count": 5,
     "metadata": {},
     "output_type": "execute_result"
    }
   ],
   "source": [
    "transcript_json"
   ]
  },
  {
   "cell_type": "code",
   "execution_count": 18,
   "metadata": {},
   "outputs": [
    {
     "name": "stdout",
     "output_type": "stream",
     "text": [
      "Warning: No matching attribute found for 'commonNames'\n",
      "Warning: No matching attribute found for 'additionalDescriptions'\n",
      "Warning: No matching attribute found for 'foodCode'\n",
      "Warning: No matching attribute found for 'publishedDate'\n",
      "Warning: No matching attribute found for 'foodCategoryId'\n",
      "Warning: No matching attribute found for 'allHighlightFields'\n",
      "Warning: No matching attribute found for 'finalFoodInputFoods'\n",
      "Warning: No matching attribute found for 'foodAttributes'\n",
      "Warning: No matching attribute found for 'foodAttributeTypes'\n",
      "Warning: No matching attribute found for 'foodVersionIds'\n",
      "Warning: No matching attribute found for 'commonNames'\n",
      "Warning: No matching attribute found for 'additionalDescriptions'\n",
      "Warning: No matching attribute found for 'foodCode'\n",
      "Warning: No matching attribute found for 'publishedDate'\n",
      "Warning: No matching attribute found for 'foodCategoryId'\n",
      "Warning: No matching attribute found for 'allHighlightFields'\n",
      "Warning: No matching attribute found for 'finalFoodInputFoods'\n",
      "Warning: No matching attribute found for 'foodAttributes'\n",
      "Warning: No matching attribute found for 'foodAttributeTypes'\n",
      "Warning: No matching attribute found for 'foodVersionIds'\n",
      "Warning: No matching attribute found for 'commonNames'\n",
      "Warning: No matching attribute found for 'additionalDescriptions'\n",
      "Warning: No matching attribute found for 'foodCode'\n",
      "Warning: No matching attribute found for 'publishedDate'\n",
      "Warning: No matching attribute found for 'foodCategoryId'\n",
      "Warning: No matching attribute found for 'allHighlightFields'\n",
      "Warning: No matching attribute found for 'finalFoodInputFoods'\n",
      "Warning: No matching attribute found for 'foodAttributes'\n",
      "Warning: No matching attribute found for 'foodAttributeTypes'\n",
      "Warning: No matching attribute found for 'foodVersionIds'\n",
      "Warning: No matching attribute found for 'commonNames'\n",
      "Warning: No matching attribute found for 'additionalDescriptions'\n",
      "Warning: No matching attribute found for 'foodCode'\n",
      "Warning: No matching attribute found for 'publishedDate'\n",
      "Warning: No matching attribute found for 'foodCategoryId'\n",
      "Warning: No matching attribute found for 'allHighlightFields'\n",
      "Warning: No matching attribute found for 'finalFoodInputFoods'\n",
      "Warning: No matching attribute found for 'foodAttributes'\n",
      "Warning: No matching attribute found for 'foodAttributeTypes'\n",
      "Warning: No matching attribute found for 'foodVersionIds'\n",
      "Warning: No matching attribute found for 'commonNames'\n",
      "Warning: No matching attribute found for 'additionalDescriptions'\n",
      "Warning: No matching attribute found for 'foodCode'\n",
      "Warning: No matching attribute found for 'publishedDate'\n",
      "Warning: No matching attribute found for 'foodCategoryId'\n",
      "Warning: No matching attribute found for 'allHighlightFields'\n",
      "Warning: No matching attribute found for 'finalFoodInputFoods'\n",
      "Warning: No matching attribute found for 'foodAttributes'\n",
      "Warning: No matching attribute found for 'foodAttributeTypes'\n",
      "Warning: No matching attribute found for 'foodVersionIds'\n",
      "Warning: No matching attribute found for 'commonNames'\n",
      "Warning: No matching attribute found for 'additionalDescriptions'\n",
      "Warning: No matching attribute found for 'ndbNumber'\n",
      "Warning: No matching attribute found for 'publishedDate'\n",
      "Warning: No matching attribute found for 'mostRecentAcquisitionDate'\n",
      "Warning: No matching attribute found for 'allHighlightFields'\n",
      "Warning: No matching attribute found for 'finalFoodInputFoods'\n",
      "Warning: No matching attribute found for 'foodAttributes'\n",
      "Warning: No matching attribute found for 'foodAttributeTypes'\n",
      "Warning: No matching attribute found for 'foodVersionIds'\n"
     ]
    },
    {
     "ename": "IndexError",
     "evalue": "single positional indexer is out-of-bounds",
     "output_type": "error",
     "traceback": [
      "\u001b[1;31m---------------------------------------------------------------------------\u001b[0m",
      "\u001b[1;31mIndexError\u001b[0m                                Traceback (most recent call last)",
      "Cell \u001b[1;32mIn[18], line 10\u001b[0m\n\u001b[0;32m      7\u001b[0m db \u001b[38;5;241m=\u001b[39m Postgress()\n\u001b[0;32m      9\u001b[0m \u001b[38;5;28;01mfor\u001b[39;00m ingredient \u001b[38;5;129;01min\u001b[39;00m transcript_json[\u001b[38;5;124m'\u001b[39m\u001b[38;5;124mingredients\u001b[39m\u001b[38;5;124m'\u001b[39m]:\n\u001b[1;32m---> 10\u001b[0m     \u001b[43mget_ingredient\u001b[49m\u001b[43m(\u001b[49m\u001b[43mingredient\u001b[49m\u001b[43m[\u001b[49m\u001b[38;5;124;43m'\u001b[39;49m\u001b[38;5;124;43mname\u001b[39;49m\u001b[38;5;124;43m'\u001b[39;49m\u001b[43m]\u001b[49m\u001b[43m,\u001b[49m\u001b[43m \u001b[49m\u001b[43mdb\u001b[49m\u001b[38;5;241;43m=\u001b[39;49m\u001b[43mdb\u001b[49m\u001b[43m,\u001b[49m\u001b[43m \u001b[49m\u001b[43mfd\u001b[49m\u001b[38;5;241;43m=\u001b[39;49m\u001b[43mfd\u001b[49m\u001b[43m)\u001b[49m\n",
      "File \u001b[1;32mc:\\Users\\timmi\\Documents\\Personal Repos\\Food\\src\\dataclasses.py:159\u001b[0m, in \u001b[0;36mget_ingredient\u001b[1;34m(inregrient, db, fd)\u001b[0m\n\u001b[0;32m    157\u001b[0m df \u001b[38;5;241m=\u001b[39m fd\u001b[38;5;241m.\u001b[39mto_df(response, \u001b[38;5;124m'\u001b[39m\u001b[38;5;124mfoods\u001b[39m\u001b[38;5;124m'\u001b[39m)\n\u001b[0;32m    158\u001b[0m ingredient \u001b[38;5;241m=\u001b[39m Ingredient()\n\u001b[1;32m--> 159\u001b[0m ingredient\u001b[38;5;241m.\u001b[39mfrom_dataframe_row(\u001b[43mdf\u001b[49m\u001b[38;5;241;43m.\u001b[39;49m\u001b[43miloc\u001b[49m\u001b[43m[\u001b[49m\u001b[38;5;241;43m0\u001b[39;49m\u001b[43m]\u001b[49m)\n\u001b[0;32m    160\u001b[0m ingredient\u001b[38;5;241m.\u001b[39msave_to_db(db)\n",
      "File \u001b[1;32mc:\\Users\\timmi\\Documents\\Personal Repos\\Food\\.venv\\Lib\\site-packages\\pandas\\core\\indexing.py:1191\u001b[0m, in \u001b[0;36m_LocationIndexer.__getitem__\u001b[1;34m(self, key)\u001b[0m\n\u001b[0;32m   1189\u001b[0m maybe_callable \u001b[38;5;241m=\u001b[39m com\u001b[38;5;241m.\u001b[39mapply_if_callable(key, \u001b[38;5;28mself\u001b[39m\u001b[38;5;241m.\u001b[39mobj)\n\u001b[0;32m   1190\u001b[0m maybe_callable \u001b[38;5;241m=\u001b[39m \u001b[38;5;28mself\u001b[39m\u001b[38;5;241m.\u001b[39m_check_deprecated_callable_usage(key, maybe_callable)\n\u001b[1;32m-> 1191\u001b[0m \u001b[38;5;28;01mreturn\u001b[39;00m \u001b[38;5;28;43mself\u001b[39;49m\u001b[38;5;241;43m.\u001b[39;49m\u001b[43m_getitem_axis\u001b[49m\u001b[43m(\u001b[49m\u001b[43mmaybe_callable\u001b[49m\u001b[43m,\u001b[49m\u001b[43m \u001b[49m\u001b[43maxis\u001b[49m\u001b[38;5;241;43m=\u001b[39;49m\u001b[43maxis\u001b[49m\u001b[43m)\u001b[49m\n",
      "File \u001b[1;32mc:\\Users\\timmi\\Documents\\Personal Repos\\Food\\.venv\\Lib\\site-packages\\pandas\\core\\indexing.py:1752\u001b[0m, in \u001b[0;36m_iLocIndexer._getitem_axis\u001b[1;34m(self, key, axis)\u001b[0m\n\u001b[0;32m   1749\u001b[0m     \u001b[38;5;28;01mraise\u001b[39;00m \u001b[38;5;167;01mTypeError\u001b[39;00m(\u001b[38;5;124m\"\u001b[39m\u001b[38;5;124mCannot index by location index with a non-integer key\u001b[39m\u001b[38;5;124m\"\u001b[39m)\n\u001b[0;32m   1751\u001b[0m \u001b[38;5;66;03m# validate the location\u001b[39;00m\n\u001b[1;32m-> 1752\u001b[0m \u001b[38;5;28;43mself\u001b[39;49m\u001b[38;5;241;43m.\u001b[39;49m\u001b[43m_validate_integer\u001b[49m\u001b[43m(\u001b[49m\u001b[43mkey\u001b[49m\u001b[43m,\u001b[49m\u001b[43m \u001b[49m\u001b[43maxis\u001b[49m\u001b[43m)\u001b[49m\n\u001b[0;32m   1754\u001b[0m \u001b[38;5;28;01mreturn\u001b[39;00m \u001b[38;5;28mself\u001b[39m\u001b[38;5;241m.\u001b[39mobj\u001b[38;5;241m.\u001b[39m_ixs(key, axis\u001b[38;5;241m=\u001b[39maxis)\n",
      "File \u001b[1;32mc:\\Users\\timmi\\Documents\\Personal Repos\\Food\\.venv\\Lib\\site-packages\\pandas\\core\\indexing.py:1685\u001b[0m, in \u001b[0;36m_iLocIndexer._validate_integer\u001b[1;34m(self, key, axis)\u001b[0m\n\u001b[0;32m   1683\u001b[0m len_axis \u001b[38;5;241m=\u001b[39m \u001b[38;5;28mlen\u001b[39m(\u001b[38;5;28mself\u001b[39m\u001b[38;5;241m.\u001b[39mobj\u001b[38;5;241m.\u001b[39m_get_axis(axis))\n\u001b[0;32m   1684\u001b[0m \u001b[38;5;28;01mif\u001b[39;00m key \u001b[38;5;241m>\u001b[39m\u001b[38;5;241m=\u001b[39m len_axis \u001b[38;5;129;01mor\u001b[39;00m key \u001b[38;5;241m<\u001b[39m \u001b[38;5;241m-\u001b[39mlen_axis:\n\u001b[1;32m-> 1685\u001b[0m     \u001b[38;5;28;01mraise\u001b[39;00m \u001b[38;5;167;01mIndexError\u001b[39;00m(\u001b[38;5;124m\"\u001b[39m\u001b[38;5;124msingle positional indexer is out-of-bounds\u001b[39m\u001b[38;5;124m\"\u001b[39m)\n",
      "\u001b[1;31mIndexError\u001b[0m: single positional indexer is out-of-bounds"
     ]
    }
   ],
   "source": [
    "from src.dataclasses import get_ingredient\n",
    "from src.FoodDataWrapper import FoodData\n",
    "from src.PostgressConnector import Postgress\n",
    "from src.config import FOOD_DATA_API, CONN_PARAMS\n",
    "\n",
    "fd = FoodData(FOOD_DATA_API)\n",
    "db = Postgress()\n",
    "\n",
    "for ingredient in transcript_json['ingredients']:\n",
    "    get_ingredient(ingredient['name'], db=db, fd=fd)"
   ]
  }
 ],
 "metadata": {
  "kernelspec": {
   "display_name": ".venv",
   "language": "python",
   "name": "python3"
  },
  "language_info": {
   "codemirror_mode": {
    "name": "ipython",
    "version": 3
   },
   "file_extension": ".py",
   "mimetype": "text/x-python",
   "name": "python",
   "nbconvert_exporter": "python",
   "pygments_lexer": "ipython3",
   "version": "3.11.9"
  }
 },
 "nbformat": 4,
 "nbformat_minor": 2
}

{
 "cells": [
  {
   "cell_type": "code",
   "execution_count": 2,
   "metadata": {},
   "outputs": [],
   "source": [
    "from src.FoodDataWrapper import FoodData\n",
    "from src.config import FOOD_DATA_API, CONN_PARAMS\n",
    "from src.PostgressConnector import Postgress\n",
    "from src.Insert import Recipe, Ingredient, get_ingredient\n",
    "import pandas as pd\n",
    "import numpy as np"
   ]
  },
  {
   "cell_type": "markdown",
   "metadata": {},
   "source": [
    "### TEST TO INCLUDE INGREDIENT"
   ]
  },
  {
   "cell_type": "code",
   "execution_count": 3,
   "metadata": {},
   "outputs": [],
   "source": [
    "fd = FoodData(FOOD_DATA_API)\n",
    "db = Postgress()"
   ]
  },
  {
   "cell_type": "code",
   "execution_count": 5,
   "metadata": {},
   "outputs": [
    {
     "name": "stdout",
     "output_type": "stream",
     "text": [
      "Converted numpy type for fdcid: 2344711\n",
      "Converted numpy type for score: 613.43915\n",
      "Converted list of dicts for microbes: []\n",
      "Converted list of dicts for foodmeasures: [{\"disseminationText\": \"1 medium\", \"gramWeight\": 200, \"id\": 283742, \"modifier\": \"61238\", \"rank\": 2, \"measureUnitAbbreviation\": \"undetermined\", \"measureUnitName\": \"undetermined\", \"measureUnitId\": 9999}, {\"disseminationText\": \"1 slice\", \"gramWeight\": 25, \"id\": 283745, \"modifier\": \"61935\", \"rank\": 5, \"measureUnitAbbreviation\": \"undetermined\", \"measureUnitName\": \"undetermined\", \"measureUnitId\": 9999}, {\"disseminationText\": \"1 large\", \"gramWeight\": 242, \"id\": 283743, \"modifier\": \"60919\", \"rank\": 3, \"measureUnitAbbreviation\": \"undetermined\", \"measureUnitName\": \"undetermined\", \"measureUnitId\": 9999}, {\"disseminationText\": \"1 extra large\", \"gramWeight\": 295, \"id\": 283744, \"modifier\": \"60749\", \"rank\": 4, \"measureUnitAbbreviation\": \"undetermined\", \"measureUnitName\": \"undetermined\", \"measureUnitId\": 9999}, {\"disseminationText\": \"Quantity not specified\", \"gramWeight\": 200, \"id\": 283748, \"modifier\": \"90000\", \"rank\": 8, \"measureUnitAbbreviation\": \"undetermined\", \"measureUnitName\": \"undetermined\", \"measureUnitId\": 9999}, {\"disseminationText\": \"1 cup\", \"gramWeight\": 125, \"id\": 283746, \"modifier\": \"10205\", \"rank\": 6, \"measureUnitAbbreviation\": \"undetermined\", \"measureUnitName\": \"undetermined\", \"measureUnitId\": 9999}, {\"disseminationText\": \"1 small\", \"gramWeight\": 165, \"id\": 283741, \"modifier\": \"62015\", \"rank\": 1, \"measureUnitAbbreviation\": \"undetermined\", \"measureUnitName\": \"undetermined\", \"measureUnitId\": 9999}, {\"disseminationText\": \"1 single serving package\", \"gramWeight\": 34, \"id\": 283747, \"modifier\": \"64236\", \"rank\": 7, \"measureUnitAbbreviation\": \"undetermined\", \"measureUnitName\": \"undetermined\", \"measureUnitId\": 9999}]\n",
      "Converted list of dicts for foodnutrients: [{\"nutrientId\": 1003, \"nutrientName\": \"Protein\", \"nutrientNumber\": \"203\", \"unitName\": \"G\", \"value\": 0.17, \"rank\": 600, \"indentLevel\": 1, \"foodNutrientId\": 28797339}, {\"nutrientId\": 1004, \"nutrientName\": \"Total lipid (fat)\", \"nutrientNumber\": \"204\", \"unitName\": \"G\", \"value\": 0.15, \"rank\": 800, \"indentLevel\": 1, \"foodNutrientId\": 28797340}, {\"nutrientId\": 1005, \"nutrientName\": \"Carbohydrate, by difference\", \"nutrientNumber\": \"205\", \"unitName\": \"G\", \"value\": 14.8, \"rank\": 1110, \"indentLevel\": 2, \"foodNutrientId\": 28797341}, {\"nutrientId\": 1008, \"nutrientName\": \"Energy\", \"nutrientNumber\": \"208\", \"unitName\": \"KCAL\", \"value\": 61.0, \"rank\": 300, \"indentLevel\": 1, \"foodNutrientId\": 28797342}, {\"nutrientId\": 1018, \"nutrientName\": \"Alcohol, ethyl\", \"nutrientNumber\": \"221\", \"unitName\": \"G\", \"value\": 0.0, \"rank\": 18200, \"indentLevel\": 1, \"foodNutrientId\": 28797343}, {\"nutrientId\": 1051, \"nutrientName\": \"Water\", \"nutrientNumber\": \"255\", \"unitName\": \"G\", \"value\": 84.6, \"rank\": 100, \"indentLevel\": 1, \"foodNutrientId\": 28797344}, {\"nutrientId\": 1057, \"nutrientName\": \"Caffeine\", \"nutrientNumber\": \"262\", \"unitName\": \"MG\", \"value\": 0.0, \"rank\": 18300, \"indentLevel\": 0, \"foodNutrientId\": 28797345}, {\"nutrientId\": 1058, \"nutrientName\": \"Theobromine\", \"nutrientNumber\": \"263\", \"unitName\": \"MG\", \"value\": 0.0, \"rank\": 18400, \"indentLevel\": 0, \"foodNutrientId\": 28797346}, {\"nutrientId\": 2000, \"nutrientName\": \"Sugars, total including NLEA\", \"nutrientNumber\": \"269\", \"unitName\": \"G\", \"value\": 12.1, \"rank\": 1510, \"indentLevel\": 3, \"foodNutrientId\": 28797347}, {\"nutrientId\": 1079, \"nutrientName\": \"Fiber, total dietary\", \"nutrientNumber\": \"291\", \"unitName\": \"G\", \"value\": 2.1, \"rank\": 1200, \"indentLevel\": 3, \"foodNutrientId\": 28797348}, {\"nutrientId\": 1087, \"nutrientName\": \"Calcium, Ca\", \"nutrientNumber\": \"301\", \"unitName\": \"MG\", \"value\": 5.0, \"rank\": 5300, \"indentLevel\": 1, \"foodNutrientId\": 28797349}, {\"nutrientId\": 1089, \"nutrientName\": \"Iron, Fe\", \"nutrientNumber\": \"303\", \"unitName\": \"MG\", \"value\": 0.03, \"rank\": 5400, \"indentLevel\": 1, \"foodNutrientId\": 28797350}, {\"nutrientId\": 1090, \"nutrientName\": \"Magnesium, Mg\", \"nutrientNumber\": \"304\", \"unitName\": \"MG\", \"value\": 5.0, \"rank\": 5500, \"indentLevel\": 1, \"foodNutrientId\": 28797351}, {\"nutrientId\": 1091, \"nutrientName\": \"Phosphorus, P\", \"nutrientNumber\": \"305\", \"unitName\": \"MG\", \"value\": 9.0, \"rank\": 5600, \"indentLevel\": 1, \"foodNutrientId\": 28797352}, {\"nutrientId\": 1092, \"nutrientName\": \"Potassium, K\", \"nutrientNumber\": \"306\", \"unitName\": \"MG\", \"value\": 104, \"rank\": 5700, \"indentLevel\": 1, \"foodNutrientId\": 28797353}, {\"nutrientId\": 1093, \"nutrientName\": \"Sodium, Na\", \"nutrientNumber\": \"307\", \"unitName\": \"MG\", \"value\": 0.0, \"rank\": 5800, \"indentLevel\": 1, \"foodNutrientId\": 28797354}, {\"nutrientId\": 1095, \"nutrientName\": \"Zinc, Zn\", \"nutrientNumber\": \"309\", \"unitName\": \"MG\", \"value\": 0.02, \"rank\": 5900, \"indentLevel\": 1, \"foodNutrientId\": 28797355}, {\"nutrientId\": 1098, \"nutrientName\": \"Copper, Cu\", \"nutrientNumber\": \"312\", \"unitName\": \"MG\", \"value\": 0.03, \"rank\": 6000, \"indentLevel\": 1, \"foodNutrientId\": 28797356}, {\"nutrientId\": 1103, \"nutrientName\": \"Selenium, Se\", \"nutrientNumber\": \"317\", \"unitName\": \"UG\", \"value\": 0.0, \"rank\": 6200, \"indentLevel\": 1, \"foodNutrientId\": 28797357}, {\"nutrientId\": 1105, \"nutrientName\": \"Retinol\", \"nutrientNumber\": \"319\", \"unitName\": \"UG\", \"value\": 0.0, \"rank\": 7430, \"indentLevel\": 2, \"foodNutrientId\": 28797358}, {\"nutrientId\": 1106, \"nutrientName\": \"Vitamin A, RAE\", \"nutrientNumber\": \"320\", \"unitName\": \"UG\", \"value\": 3.0, \"rank\": 7420, \"indentLevel\": 1, \"foodNutrientId\": 28797359}, {\"nutrientId\": 1107, \"nutrientName\": \"Carotene, beta\", \"nutrientNumber\": \"321\", \"unitName\": \"UG\", \"value\": 27.0, \"rank\": 7440, \"indentLevel\": 2, \"foodNutrientId\": 28797360}, {\"nutrientId\": 1108, \"nutrientName\": \"Carotene, alpha\", \"nutrientNumber\": \"322\", \"unitName\": \"UG\", \"value\": 0.0, \"rank\": 7450, \"indentLevel\": 2, \"foodNutrientId\": 28797361}, {\"nutrientId\": 1109, \"nutrientName\": \"Vitamin E (alpha-tocopherol)\", \"nutrientNumber\": \"323\", \"unitName\": \"MG\", \"value\": 0.18, \"rank\": 7905, \"indentLevel\": 1, \"foodNutrientId\": 28797362}, {\"nutrientId\": 1114, \"nutrientName\": \"Vitamin D (D2 + D3)\", \"nutrientNumber\": \"328\", \"unitName\": \"UG\", \"value\": 0.0, \"rank\": 8700, \"indentLevel\": 1, \"foodNutrientId\": 28797363}, {\"nutrientId\": 1120, \"nutrientName\": \"Cryptoxanthin, beta\", \"nutrientNumber\": \"334\", \"unitName\": \"UG\", \"value\": 11.0, \"rank\": 7460, \"indentLevel\": 2, \"foodNutrientId\": 28797364}, {\"nutrientId\": 1122, \"nutrientName\": \"Lycopene\", \"nutrientNumber\": \"337\", \"unitName\": \"UG\", \"value\": 0.0, \"rank\": 7530, \"indentLevel\": 1, \"foodNutrientId\": 28797365}, {\"nutrientId\": 1123, \"nutrientName\": \"Lutein + zeaxanthin\", \"nutrientNumber\": \"338\", \"unitName\": \"UG\", \"value\": 29.0, \"rank\": 7560, \"indentLevel\": 1, \"foodNutrientId\": 28797366}, {\"nutrientId\": 1162, \"nutrientName\": \"Vitamin C, total ascorbic acid\", \"nutrientNumber\": \"401\", \"unitName\": \"MG\", \"value\": 4.6, \"rank\": 6300, \"indentLevel\": 1, \"foodNutrientId\": 28797367}, {\"nutrientId\": 1165, \"nutrientName\": \"Thiamin\", \"nutrientNumber\": \"404\", \"unitName\": \"MG\", \"value\": 0.01, \"rank\": 6400, \"indentLevel\": 1, \"foodNutrientId\": 28797368}, {\"nutrientId\": 1166, \"nutrientName\": \"Riboflavin\", \"nutrientNumber\": \"405\", \"unitName\": \"MG\", \"value\": 0.07, \"rank\": 6500, \"indentLevel\": 1, \"foodNutrientId\": 28797369}, {\"nutrientId\": 1167, \"nutrientName\": \"Niacin\", \"nutrientNumber\": \"406\", \"unitName\": \"MG\", \"value\": 0.091, \"rank\": 6600, \"indentLevel\": 1, \"foodNutrientId\": 28797370}, {\"nutrientId\": 1175, \"nutrientName\": \"Vitamin B-6\", \"nutrientNumber\": \"415\", \"unitName\": \"MG\", \"value\": 0.03, \"rank\": 6800, \"indentLevel\": 1, \"foodNutrientId\": 28797371}, {\"nutrientId\": 1177, \"nutrientName\": \"Folate, total\", \"nutrientNumber\": \"417\", \"unitName\": \"UG\", \"value\": 0.0, \"rank\": 6900, \"indentLevel\": 1, \"foodNutrientId\": 28797372}, {\"nutrientId\": 1178, \"nutrientName\": \"Vitamin B-12\", \"nutrientNumber\": \"418\", \"unitName\": \"UG\", \"value\": 0.0, \"rank\": 7300, \"indentLevel\": 1, \"foodNutrientId\": 28797373}, {\"nutrientId\": 1180, \"nutrientName\": \"Choline, total\", \"nutrientNumber\": \"421\", \"unitName\": \"MG\", \"value\": 3.4, \"rank\": 7220, \"indentLevel\": 1, \"foodNutrientId\": 28797374}, {\"nutrientId\": 1185, \"nutrientName\": \"Vitamin K (phylloquinone)\", \"nutrientNumber\": \"430\", \"unitName\": \"UG\", \"value\": 2.2, \"rank\": 8800, \"indentLevel\": 1, \"foodNutrientId\": 28797375}, {\"nutrientId\": 1186, \"nutrientName\": \"Folic acid\", \"nutrientNumber\": \"431\", \"unitName\": \"UG\", \"value\": 0.0, \"rank\": 7000, \"indentLevel\": 0, \"foodNutrientId\": 28797376}, {\"nutrientId\": 1187, \"nutrientName\": \"Folate, food\", \"nutrientNumber\": \"432\", \"unitName\": \"UG\", \"value\": 0.0, \"rank\": 7100, \"indentLevel\": 1, \"foodNutrientId\": 28797377}, {\"nutrientId\": 1190, \"nutrientName\": \"Folate, DFE\", \"nutrientNumber\": \"435\", \"unitName\": \"UG\", \"value\": 0.0, \"rank\": 7200, \"indentLevel\": 1, \"foodNutrientId\": 28797378}, {\"nutrientId\": 1242, \"nutrientName\": \"Vitamin E, added\", \"nutrientNumber\": \"573\", \"unitName\": \"MG\", \"value\": 0.0, \"rank\": 7920, \"indentLevel\": 0, \"foodNutrientId\": 28797379}, {\"nutrientId\": 1246, \"nutrientName\": \"Vitamin B-12, added\", \"nutrientNumber\": \"578\", \"unitName\": \"UG\", \"value\": 0.0, \"rank\": 7340, \"indentLevel\": 0, \"foodNutrientId\": 28797380}, {\"nutrientId\": 1253, \"nutrientName\": \"Cholesterol\", \"nutrientNumber\": \"601\", \"unitName\": \"MG\", \"value\": 0.0, \"rank\": 15700, \"indentLevel\": 1, \"foodNutrientId\": 28797381}, {\"nutrientId\": 1258, \"nutrientName\": \"Fatty acids, total saturated\", \"nutrientNumber\": \"606\", \"unitName\": \"G\", \"value\": 0.028, \"rank\": 9700, \"indentLevel\": 1, \"foodNutrientId\": 28797382}, {\"nutrientId\": 1259, \"nutrientName\": \"SFA 4:0\", \"nutrientNumber\": \"607\", \"unitName\": \"G\", \"value\": 0.0, \"rank\": 9800, \"indentLevel\": 2, \"foodNutrientId\": 28797383}, {\"nutrientId\": 1260, \"nutrientName\": \"SFA 6:0\", \"nutrientNumber\": \"608\", \"unitName\": \"G\", \"value\": 0.0, \"rank\": 9900, \"indentLevel\": 2, \"foodNutrientId\": 28797384}, {\"nutrientId\": 1261, \"nutrientName\": \"SFA 8:0\", \"nutrientNumber\": \"609\", \"unitName\": \"G\", \"value\": 0.0, \"rank\": 10000, \"indentLevel\": 2, \"foodNutrientId\": 28797385}, {\"nutrientId\": 1262, \"nutrientName\": \"SFA 10:0\", \"nutrientNumber\": \"610\", \"unitName\": \"G\", \"value\": 0.0, \"rank\": 10100, \"indentLevel\": 2, \"foodNutrientId\": 28797386}, {\"nutrientId\": 1263, \"nutrientName\": \"SFA 12:0\", \"nutrientNumber\": \"611\", \"unitName\": \"G\", \"value\": 0.0, \"rank\": 10300, \"indentLevel\": 2, \"foodNutrientId\": 28797387}, {\"nutrientId\": 1264, \"nutrientName\": \"SFA 14:0\", \"nutrientNumber\": \"612\", \"unitName\": \"G\", \"value\": 0.001, \"rank\": 10500, \"indentLevel\": 2, \"foodNutrientId\": 28797388}, {\"nutrientId\": 1265, \"nutrientName\": \"SFA 16:0\", \"nutrientNumber\": \"613\", \"unitName\": \"G\", \"value\": 0.024, \"rank\": 10700, \"indentLevel\": 2, \"foodNutrientId\": 28797389}, {\"nutrientId\": 1266, \"nutrientName\": \"SFA 18:0\", \"nutrientNumber\": \"614\", \"unitName\": \"G\", \"value\": 0.003, \"rank\": 10900, \"indentLevel\": 2, \"foodNutrientId\": 28797390}, {\"nutrientId\": 1268, \"nutrientName\": \"MUFA 18:1\", \"nutrientNumber\": \"617\", \"unitName\": \"G\", \"value\": 0.007, \"rank\": 12100, \"indentLevel\": 2, \"foodNutrientId\": 28797391}, {\"nutrientId\": 1269, \"nutrientName\": \"PUFA 18:2\", \"nutrientNumber\": \"618\", \"unitName\": \"G\", \"value\": 0.043, \"rank\": 13100, \"indentLevel\": 2, \"foodNutrientId\": 28797392}, {\"nutrientId\": 1270, \"nutrientName\": \"PUFA 18:3\", \"nutrientNumber\": \"619\", \"unitName\": \"G\", \"value\": 0.009, \"rank\": 13900, \"indentLevel\": 2, \"foodNutrientId\": 28797393}, {\"nutrientId\": 1271, \"nutrientName\": \"PUFA 20:4\", \"nutrientNumber\": \"620\", \"unitName\": \"G\", \"value\": 0.0, \"rank\": 14700, \"indentLevel\": 2, \"foodNutrientId\": 28797394}, {\"nutrientId\": 1272, \"nutrientName\": \"PUFA 22:6 n-3 (DHA)\", \"nutrientNumber\": \"621\", \"unitName\": \"G\", \"value\": 0.0, \"rank\": 15300, \"indentLevel\": 2, \"foodNutrientId\": 28797395}, {\"nutrientId\": 1275, \"nutrientName\": \"MUFA 16:1\", \"nutrientNumber\": \"626\", \"unitName\": \"G\", \"value\": 0.0, \"rank\": 11700, \"indentLevel\": 2, \"foodNutrientId\": 28797396}, {\"nutrientId\": 1276, \"nutrientName\": \"PUFA 18:4\", \"nutrientNumber\": \"627\", \"unitName\": \"G\", \"value\": 0.0, \"rank\": 14250, \"indentLevel\": 2, \"foodNutrientId\": 28797397}, {\"nutrientId\": 1277, \"nutrientName\": \"MUFA 20:1\", \"nutrientNumber\": \"628\", \"unitName\": \"G\", \"value\": 0.0, \"rank\": 12400, \"indentLevel\": 2, \"foodNutrientId\": 28797398}, {\"nutrientId\": 1278, \"nutrientName\": \"PUFA 20:5 n-3 (EPA)\", \"nutrientNumber\": \"629\", \"unitName\": \"G\", \"value\": 0.0, \"rank\": 15000, \"indentLevel\": 2, \"foodNutrientId\": 28797399}, {\"nutrientId\": 1279, \"nutrientName\": \"MUFA 22:1\", \"nutrientNumber\": \"630\", \"unitName\": \"G\", \"value\": 0.0, \"rank\": 12500, \"indentLevel\": 2, \"foodNutrientId\": 28797400}, {\"nutrientId\": 1280, \"nutrientName\": \"PUFA 22:5 n-3 (DPA)\", \"nutrientNumber\": \"631\", \"unitName\": \"G\", \"value\": 0.0, \"rank\": 15200, \"indentLevel\": 2, \"foodNutrientId\": 28797401}, {\"nutrientId\": 1292, \"nutrientName\": \"Fatty acids, total monounsaturated\", \"nutrientNumber\": \"645\", \"unitName\": \"G\", \"value\": 0.007, \"rank\": 11400, \"indentLevel\": 1, \"foodNutrientId\": 28797402}, {\"nutrientId\": 1293, \"nutrientName\": \"Fatty acids, total polyunsaturated\", \"nutrientNumber\": \"646\", \"unitName\": \"G\", \"value\": 0.051, \"rank\": 12900, \"indentLevel\": 1, \"foodNutrientId\": 28797403}]\n"
     ]
    }
   ],
   "source": [
    "get_ingredient('Apple raw', db=db, fd=fd)"
   ]
  },
  {
   "cell_type": "code",
   "execution_count": 5,
   "metadata": {},
   "outputs": [],
   "source": [
    "fd = FoodData(FOOD_DATA_API)\n",
    "response = fd.search('Apple', limit=1)\n",
    "df = fd.to_df(response, 'foods')"
   ]
  },
  {
   "cell_type": "code",
   "execution_count": 6,
   "metadata": {},
   "outputs": [],
   "source": [
    "Apple = Ingredient()\n",
    "Apple.from_dataframe_row(df.iloc[0])\n",
    "db = Postgress()"
   ]
  },
  {
   "cell_type": "code",
   "execution_count": 9,
   "metadata": {},
   "outputs": [
    {
     "data": {
      "text/html": [
       "<div>\n",
       "<style scoped>\n",
       "    .dataframe tbody tr th:only-of-type {\n",
       "        vertical-align: middle;\n",
       "    }\n",
       "\n",
       "    .dataframe tbody tr th {\n",
       "        vertical-align: top;\n",
       "    }\n",
       "\n",
       "    .dataframe thead th {\n",
       "        text-align: right;\n",
       "    }\n",
       "</style>\n",
       "<table border=\"1\" class=\"dataframe\">\n",
       "  <thead>\n",
       "    <tr style=\"text-align: right;\">\n",
       "      <th></th>\n",
       "      <th>fdcId</th>\n",
       "      <th>description</th>\n",
       "      <th>commonNames</th>\n",
       "      <th>additionalDescriptions</th>\n",
       "      <th>dataType</th>\n",
       "      <th>foodCode</th>\n",
       "      <th>publishedDate</th>\n",
       "      <th>foodCategory</th>\n",
       "      <th>foodCategoryId</th>\n",
       "      <th>allHighlightFields</th>\n",
       "      <th>score</th>\n",
       "      <th>microbes</th>\n",
       "      <th>foodNutrients</th>\n",
       "      <th>finalFoodInputFoods</th>\n",
       "      <th>foodMeasures</th>\n",
       "      <th>foodAttributes</th>\n",
       "      <th>foodAttributeTypes</th>\n",
       "      <th>foodVersionIds</th>\n",
       "    </tr>\n",
       "  </thead>\n",
       "  <tbody>\n",
       "    <tr>\n",
       "      <th>0</th>\n",
       "      <td>2344788</td>\n",
       "      <td>Apple, candied</td>\n",
       "      <td></td>\n",
       "      <td>caramel apples</td>\n",
       "      <td>Survey (FNDDS)</td>\n",
       "      <td>63401060</td>\n",
       "      <td>2022-10-28</td>\n",
       "      <td>Apples</td>\n",
       "      <td>2649247</td>\n",
       "      <td>&lt;b&gt;Includes&lt;/b&gt;: caramel &lt;em&gt;apples&lt;/em&gt;</td>\n",
       "      <td>294.29593</td>\n",
       "      <td>[]</td>\n",
       "      <td>[{'nutrientId': 1003, 'nutrientName': 'Protein...</td>\n",
       "      <td>[{'foodDescription': 'Apples, raw, with skin (...</td>\n",
       "      <td>[{'disseminationText': 'Quantity not specified...</td>\n",
       "      <td>[]</td>\n",
       "      <td>[{'name': 'Adjustments', 'description': 'Adjus...</td>\n",
       "      <td>[]</td>\n",
       "    </tr>\n",
       "  </tbody>\n",
       "</table>\n",
       "</div>"
      ],
      "text/plain": [
       "     fdcId     description commonNames additionalDescriptions        dataType  \\\n",
       "0  2344788  Apple, candied                     caramel apples  Survey (FNDDS)   \n",
       "\n",
       "   foodCode publishedDate foodCategory  foodCategoryId  \\\n",
       "0  63401060    2022-10-28       Apples         2649247   \n",
       "\n",
       "                         allHighlightFields      score microbes  \\\n",
       "0  <b>Includes</b>: caramel <em>apples</em>  294.29593       []   \n",
       "\n",
       "                                       foodNutrients  \\\n",
       "0  [{'nutrientId': 1003, 'nutrientName': 'Protein...   \n",
       "\n",
       "                                 finalFoodInputFoods  \\\n",
       "0  [{'foodDescription': 'Apples, raw, with skin (...   \n",
       "\n",
       "                                        foodMeasures foodAttributes  \\\n",
       "0  [{'disseminationText': 'Quantity not specified...             []   \n",
       "\n",
       "                                  foodAttributeTypes foodVersionIds  \n",
       "0  [{'name': 'Adjustments', 'description': 'Adjus...             []  "
      ]
     },
     "execution_count": 9,
     "metadata": {},
     "output_type": "execute_result"
    }
   ],
   "source": [
    "df"
   ]
  },
  {
   "cell_type": "code",
   "execution_count": 7,
   "metadata": {},
   "outputs": [
    {
     "data": {
      "text/plain": [
       "Ingredient(tablename=development.ingredients, fdcid=None, description=Apple, candied, datatype=None, brandowner=None, marketcountry=None, modifieddate=None, foodcategory=None, datasource=None, servingsizeunit=None, servingsize=None, score=294.29593, microbes=[], foodmeasures=None, foodnutrients=None)"
      ]
     },
     "execution_count": 7,
     "metadata": {},
     "output_type": "execute_result"
    }
   ],
   "source": [
    "Apple"
   ]
  },
  {
   "cell_type": "code",
   "execution_count": 35,
   "metadata": {},
   "outputs": [],
   "source": [
    "db.close()\n",
    "db.conn = db.connect()"
   ]
  },
  {
   "cell_type": "code",
   "execution_count": 5,
   "metadata": {},
   "outputs": [
    {
     "name": "stdout",
     "output_type": "stream",
     "text": [
      "Converted numpy type for fdcid: 1104812\n",
      "Converted numpy type for score: 253.44672\n",
      "Converted list of dicts for microbes: []\n",
      "Converted list of dicts for foodmeasures: []\n",
      "Converted list of dicts for foodnutrients: [{\"nutrientId\": 1062, \"nutrientName\": \"Energy\", \"nutrientNumber\": \"268\", \"unitName\": \"kJ\", \"derivationCode\": \"NC\", \"derivationDescription\": \"Calculated\", \"derivationId\": 49, \"value\": 1580.0, \"foodNutrientSourceId\": 2, \"foodNutrientSourceCode\": \"4\", \"foodNutrientSourceDescription\": \"Calculated or imputed\", \"rank\": 400, \"indentLevel\": 1, \"foodNutrientId\": 13336269}, {\"nutrientId\": 1089, \"nutrientName\": \"Iron, Fe\", \"nutrientNumber\": \"303\", \"unitName\": \"MG\", \"derivationCode\": \"A\", \"derivationDescription\": \"Analytical\", \"derivationId\": 1, \"value\": 1.5, \"foodNutrientSourceId\": 1, \"foodNutrientSourceCode\": \"1\", \"foodNutrientSourceDescription\": \"Analytical or derived from analytical\", \"rank\": 5400, \"indentLevel\": 1, \"foodNutrientId\": 13336270, \"dataPoints\": 4, \"min\": 1.1, \"max\": 2.25, \"median\": 1.33}, {\"nutrientId\": 1090, \"nutrientName\": \"Magnesium, Mg\", \"nutrientNumber\": \"304\", \"unitName\": \"MG\", \"derivationCode\": \"A\", \"derivationDescription\": \"Analytical\", \"derivationId\": 1, \"value\": 124, \"foodNutrientSourceId\": 1, \"foodNutrientSourceCode\": \"1\", \"foodNutrientSourceDescription\": \"Analytical or derived from analytical\", \"rank\": 5500, \"indentLevel\": 1, \"foodNutrientId\": 13336271, \"dataPoints\": 4, \"min\": 102, \"max\": 141, \"median\": 126}, {\"nutrientId\": 1091, \"nutrientName\": \"Phosphorus, P\", \"nutrientNumber\": \"305\", \"unitName\": \"MG\", \"derivationCode\": \"A\", \"derivationDescription\": \"Analytical\", \"derivationId\": 1, \"value\": 319, \"foodNutrientSourceId\": 1, \"foodNutrientSourceCode\": \"1\", \"foodNutrientSourceDescription\": \"Analytical or derived from analytical\", \"rank\": 5600, \"indentLevel\": 1, \"foodNutrientId\": 13336272, \"dataPoints\": 4, \"min\": 273, \"max\": 343, \"median\": 330}, {\"nutrientId\": 1093, \"nutrientName\": \"Sodium, Na\", \"nutrientNumber\": \"307\", \"unitName\": \"MG\", \"derivationCode\": \"A\", \"derivationDescription\": \"Analytical\", \"derivationId\": 1, \"value\": 1.0, \"foodNutrientSourceId\": 1, \"foodNutrientSourceCode\": \"1\", \"foodNutrientSourceDescription\": \"Analytical or derived from analytical\", \"rank\": 5800, \"indentLevel\": 1, \"foodNutrientId\": 13336273, \"dataPoints\": 4, \"min\": 0.0, \"max\": 3.0, \"median\": 1.0}, {\"nutrientId\": 1098, \"nutrientName\": \"Copper, Cu\", \"nutrientNumber\": \"312\", \"unitName\": \"MG\", \"derivationCode\": \"A\", \"derivationDescription\": \"Analytical\", \"derivationId\": 1, \"value\": 0.286, \"foodNutrientSourceId\": 1, \"foodNutrientSourceCode\": \"1\", \"foodNutrientSourceDescription\": \"Analytical or derived from analytical\", \"rank\": 6000, \"indentLevel\": 1, \"foodNutrientId\": 13336274, \"dataPoints\": 4, \"min\": 0.253, \"max\": 0.336, \"median\": 0.277}, {\"nutrientId\": 1101, \"nutrientName\": \"Manganese, Mn\", \"nutrientNumber\": \"315\", \"unitName\": \"MG\", \"derivationCode\": \"A\", \"derivationDescription\": \"Analytical\", \"derivationId\": 1, \"value\": 2.84, \"foodNutrientSourceId\": 1, \"foodNutrientSourceCode\": \"1\", \"foodNutrientSourceDescription\": \"Analytical or derived from analytical\", \"rank\": 6100, \"indentLevel\": 1, \"foodNutrientId\": 13336275, \"dataPoints\": 4, \"min\": 2.44, \"max\": 3.31, \"median\": 2.79}, {\"nutrientId\": 1003, \"nutrientName\": \"Protein\", \"nutrientNumber\": \"203\", \"unitName\": \"G\", \"derivationCode\": \"NC\", \"derivationDescription\": \"Calculated\", \"derivationId\": 49, \"value\": 7.19, \"foodNutrientSourceId\": 2, \"foodNutrientSourceCode\": \"4\", \"foodNutrientSourceDescription\": \"Calculated or imputed\", \"rank\": 600, \"indentLevel\": 1, \"foodNutrientId\": 13336276, \"min\": 6.69, \"max\": 7.5, \"median\": 7.25}, {\"nutrientId\": 1007, \"nutrientName\": \"Ash\", \"nutrientNumber\": \"207\", \"unitName\": \"G\", \"derivationCode\": \"A\", \"derivationDescription\": \"Analytical\", \"derivationId\": 1, \"value\": 1.4, \"foodNutrientSourceId\": 1, \"foodNutrientSourceCode\": \"1\", \"foodNutrientSourceDescription\": \"Analytical or derived from analytical\", \"rank\": 1000, \"indentLevel\": 1, \"foodNutrientId\": 13336277, \"dataPoints\": 4, \"min\": 1.23, \"max\": 1.49, \"median\": 1.45}, {\"nutrientId\": 1165, \"nutrientName\": \"Thiamin\", \"nutrientNumber\": \"404\", \"unitName\": \"MG\", \"derivationCode\": \"A\", \"derivationDescription\": \"Analytical\", \"derivationId\": 1, \"value\": 0.322, \"foodNutrientSourceId\": 1, \"foodNutrientSourceCode\": \"1\", \"foodNutrientSourceDescription\": \"Analytical or derived from analytical\", \"rank\": 6400, \"indentLevel\": 1, \"foodNutrientId\": 13336278, \"dataPoints\": 4, \"min\": 0.3, \"max\": 0.34, \"median\": 0.325}, {\"nutrientId\": 1166, \"nutrientName\": \"Riboflavin\", \"nutrientNumber\": \"405\", \"unitName\": \"MG\", \"derivationCode\": \"A\", \"derivationDescription\": \"Analytical\", \"derivationId\": 1, \"value\": 0.008, \"foodNutrientSourceId\": 1, \"foodNutrientSourceCode\": \"1\", \"foodNutrientSourceDescription\": \"Analytical or derived from analytical\", \"rank\": 6500, \"indentLevel\": 1, \"foodNutrientId\": 13336279, \"dataPoints\": 4, \"min\": 0.0, \"max\": 0.03, \"median\": 0.0}, {\"nutrientId\": 1004, \"nutrientName\": \"Total lipid (fat)\", \"nutrientNumber\": \"204\", \"unitName\": \"G\", \"derivationCode\": \"A\", \"derivationDescription\": \"Analytical\", \"derivationId\": 1, \"value\": 3.85, \"foodNutrientSourceId\": 1, \"foodNutrientSourceCode\": \"1\", \"foodNutrientSourceDescription\": \"Analytical or derived from analytical\", \"rank\": 800, \"indentLevel\": 1, \"foodNutrientId\": 13336280, \"dataPoints\": 4, \"min\": 3.37, \"max\": 4.68, \"median\": 3.68}, {\"nutrientId\": 1005, \"nutrientName\": \"Carbohydrate, by difference\", \"nutrientNumber\": \"205\", \"unitName\": \"G\", \"derivationCode\": \"NC\", \"derivationDescription\": \"Calculated\", \"derivationId\": 49, \"value\": 75.5, \"foodNutrientSourceId\": 2, \"foodNutrientSourceCode\": \"4\", \"foodNutrientSourceDescription\": \"Calculated or imputed\", \"rank\": 1110, \"indentLevel\": 2, \"foodNutrientId\": 13336281}, {\"nutrientId\": 1008, \"nutrientName\": \"Energy\", \"nutrientNumber\": \"208\", \"unitName\": \"KCAL\", \"derivationCode\": \"NC\", \"derivationDescription\": \"Calculated\", \"derivationId\": 49, \"value\": 365, \"foodNutrientSourceId\": 2, \"foodNutrientSourceCode\": \"4\", \"foodNutrientSourceDescription\": \"Calculated or imputed\", \"rank\": 300, \"indentLevel\": 1, \"foodNutrientId\": 13336282}, {\"nutrientId\": 1051, \"nutrientName\": \"Water\", \"nutrientNumber\": \"255\", \"unitName\": \"G\", \"derivationCode\": \"A\", \"derivationDescription\": \"Analytical\", \"derivationId\": 1, \"value\": 12.1, \"foodNutrientSourceId\": 1, \"foodNutrientSourceCode\": \"1\", \"foodNutrientSourceDescription\": \"Analytical or derived from analytical\", \"rank\": 100, \"indentLevel\": 1, \"foodNutrientId\": 13336283, \"dataPoints\": 4, \"min\": 10.8, \"max\": 12.9, \"median\": 12.5}, {\"nutrientId\": 1087, \"nutrientName\": \"Calcium, Ca\", \"nutrientNumber\": \"301\", \"unitName\": \"MG\", \"derivationCode\": \"A\", \"derivationDescription\": \"Analytical\", \"derivationId\": 1, \"value\": 10.0, \"foodNutrientSourceId\": 1, \"foodNutrientSourceCode\": \"1\", \"foodNutrientSourceDescription\": \"Analytical or derived from analytical\", \"rank\": 5300, \"indentLevel\": 1, \"foodNutrientId\": 13336284, \"dataPoints\": 4, \"min\": 8.0, \"max\": 14.0, \"median\": 9.0}, {\"nutrientId\": 1092, \"nutrientName\": \"Potassium, K\", \"nutrientNumber\": \"306\", \"unitName\": \"MG\", \"derivationCode\": \"A\", \"derivationDescription\": \"Analytical\", \"derivationId\": 1, \"value\": 265, \"foodNutrientSourceId\": 1, \"foodNutrientSourceCode\": \"1\", \"foodNutrientSourceDescription\": \"Analytical or derived from analytical\", \"rank\": 5700, \"indentLevel\": 1, \"foodNutrientId\": 13336285, \"dataPoints\": 4, \"min\": 253, \"max\": 286, \"median\": 261}, {\"nutrientId\": 1095, \"nutrientName\": \"Zinc, Zn\", \"nutrientNumber\": \"309\", \"unitName\": \"MG\", \"derivationCode\": \"A\", \"derivationDescription\": \"Analytical\", \"derivationId\": 1, \"value\": 1.91, \"foodNutrientSourceId\": 1, \"foodNutrientSourceCode\": \"1\", \"foodNutrientSourceDescription\": \"Analytical or derived from analytical\", \"rank\": 5900, \"indentLevel\": 1, \"foodNutrientId\": 13336286, \"dataPoints\": 4, \"min\": 1.36, \"max\": 2.69, \"median\": 1.79}, {\"nutrientId\": 1167, \"nutrientName\": \"Niacin\", \"nutrientNumber\": \"406\", \"unitName\": \"MG\", \"derivationCode\": \"A\", \"derivationDescription\": \"Analytical\", \"derivationId\": 1, \"value\": 5.99, \"foodNutrientSourceId\": 1, \"foodNutrientSourceCode\": \"1\", \"foodNutrientSourceDescription\": \"Analytical or derived from analytical\", \"rank\": 6600, \"indentLevel\": 1, \"foodNutrientId\": 13336287, \"dataPoints\": 4, \"min\": 5.48, \"max\": 6.89, \"median\": 5.79}, {\"nutrientId\": 1175, \"nutrientName\": \"Vitamin B-6\", \"nutrientNumber\": \"415\", \"unitName\": \"MG\", \"derivationCode\": \"A\", \"derivationDescription\": \"Analytical\", \"derivationId\": 1, \"value\": 0.132, \"foodNutrientSourceId\": 1, \"foodNutrientSourceCode\": \"1\", \"foodNutrientSourceDescription\": \"Analytical or derived from analytical\", \"rank\": 6800, \"indentLevel\": 1, \"foodNutrientId\": 13336288, \"dataPoints\": 4, \"min\": 0.104, \"max\": 0.174, \"median\": 0.124}, {\"nutrientId\": 1002, \"nutrientName\": \"Nitrogen\", \"nutrientNumber\": \"202\", \"unitName\": \"G\", \"derivationCode\": \"A\", \"derivationDescription\": \"Analytical\", \"derivationId\": 1, \"value\": 1.15, \"foodNutrientSourceId\": 1, \"foodNutrientSourceCode\": \"1\", \"foodNutrientSourceDescription\": \"Analytical or derived from analytical\", \"rank\": 500, \"indentLevel\": 1, \"foodNutrientId\": 13336289, \"dataPoints\": 4, \"min\": 1.07, \"max\": 1.2, \"median\": 1.16}, {\"nutrientId\": 1102, \"nutrientName\": \"Molybdenum, Mo\", \"nutrientNumber\": \"316\", \"unitName\": \"UG\", \"derivationCode\": \"A\", \"derivationDescription\": \"Analytical\", \"derivationId\": 1, \"value\": 56.2, \"foodNutrientSourceId\": 1, \"foodNutrientSourceCode\": \"1\", \"foodNutrientSourceDescription\": \"Analytical or derived from analytical\", \"rank\": 6243, \"indentLevel\": 1, \"foodNutrientId\": 13336290, \"dataPoints\": 4, \"min\": 41.9, \"max\": 86.3, \"median\": 48.3}, {\"nutrientId\": 1103, \"nutrientName\": \"Selenium, Se\", \"nutrientNumber\": \"317\", \"unitName\": \"UG\", \"derivationCode\": \"A\", \"derivationDescription\": \"Analytical\", \"derivationId\": 1, \"value\": 9.68, \"foodNutrientSourceId\": 1, \"foodNutrientSourceCode\": \"1\", \"foodNutrientSourceDescription\": \"Analytical or derived from analytical\", \"rank\": 6200, \"indentLevel\": 1, \"foodNutrientId\": 13336291, \"dataPoints\": 4, \"min\": 3.71, \"max\": 19.1, \"median\": 7.96}]\n"
     ]
    }
   ],
   "source": [
    "Apple.save_to_db(db)"
   ]
  },
  {
   "cell_type": "markdown",
   "metadata": {},
   "source": [
    "### NUTRIENTS"
   ]
  },
  {
   "cell_type": "code",
   "execution_count": 37,
   "metadata": {},
   "outputs": [],
   "source": [
    "\n",
    "# df_nut = pd.DataFrame(df.foodNutrients.item())\n",
    "# nutcols = ['nutrientId', 'nutrientName', 'nutrientNumber', 'unitName', 'value', 'rank', 'percentDailyValue']\n",
    "# df_nut[nutcols]"
   ]
  }
 ],
 "metadata": {
  "kernelspec": {
   "display_name": ".venv",
   "language": "python",
   "name": "python3"
  },
  "language_info": {
   "codemirror_mode": {
    "name": "ipython",
    "version": 3
   },
   "file_extension": ".py",
   "mimetype": "text/x-python",
   "name": "python",
   "nbconvert_exporter": "python",
   "pygments_lexer": "ipython3",
   "version": "3.11.9"
  }
 },
 "nbformat": 4,
 "nbformat_minor": 2
}
